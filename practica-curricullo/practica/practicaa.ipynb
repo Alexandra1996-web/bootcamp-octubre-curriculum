{
 "cells": [
  {
   "cell_type": "code",
   "execution_count": 7,
   "metadata": {},
   "outputs": [
    {
     "name": "stdout",
     "output_type": "stream",
     "text": [
      "Hola mundo\n",
      "Hola Mundo True Saludo\n",
      "cajita\n",
      "34\n"
     ]
    }
   ],
   "source": [
    "# comentario de una linea \n",
    "\n",
    "''' esto es un \n",
    "comentario \n",
    "de \n",
    "varias \n",
    "lineas \n",
    "\n",
    "ctrl + z para volver atras \n",
    "ctrl + y para adelante \n",
    "alt + z para ajustar a la pantalla\n",
    "ctrl + s este siii, como guardar los cambios, y mostrar lo de los puntitos arriba \n",
    "\n",
    "'''\n",
    "\n",
    "\n",
    "\n",
    "\n",
    "''' Resumen de lo hablado en el dia 1, tenemos que:\n",
    "\n",
    "- Tomar la asistencia de los participantes a la par de entregar el porta nombres\n",
    "- Hacer el recorrido por la casa, explicando las reglas de la casa, cuando las mesas ya esten listas \n",
    "- Ayudar a los chicos con la instalacion *para esto mirar los recursos que se le envios en un google drive a los participantes\n",
    "- Instalar extension de jupyter notebook \n",
    "- Crear carpeta practica y dentro de ella crear un archivo dia1.ipynb\n",
    "\n",
    "''' \n",
    "\n",
    "# Indent-Rainbow para colorcitos de indentado\n",
    "# Reload para recargar el archivo en vez de abrir y cerrar \n",
    "# Revisar el teclado de los participantes para ayudarles si esta en espanhol o ingles\n",
    "\n",
    "# Python no hace diferencia entre las comillas simples y dobles \n",
    "\n",
    "\n",
    "print('Hola mundo') # esto es utilizando comillas simples \n",
    "\n",
    "print(\"Hola Mundo\", True, \"Saludo\") #esto es utilizando comillas dobles \n",
    "\n",
    "#los elementos pueden ser separados por comas \n",
    "\n",
    "#buscar extension para emoticones\n",
    "\n",
    "mi_variable = \"cajita\"\n",
    "\n",
    "print(mi_variable)\n",
    "\n",
    "mi_variable = 34 #sintaxis de declarar una variable es esta \n",
    "\n",
    "print(mi_variable)\n",
    "\n",
    "''' Comentarios sobre las convenciones de como nombrar variables en python:\n",
    "\n",
    "- utilizar minusculas \n",
    "- no empezar con un numero \n",
    "- separar con _ las palabras compuestas \n",
    "- no utilizar espacios \n",
    "- ser especifico al asignar el nombre de las variables y que el nombre guarde relacion con la informacion a almacenar o dato\n",
    "- a la forma de nombrar variables de snake_case la forma en la que se escribe \n",
    "- un dato que vamos a utilizar y reasignar, en un codigo extenso para no editar uno a uno \n",
    "\n",
    "* snake_case =  python \n",
    "\n",
    "* camelCase =  JavaScript, Java, C \n",
    "\n",
    "'''\n",
    "\n",
    "#Ejecucion, python se ejecuta linea por linea, se ejecuta de modo secuencial \n",
    "\n",
    "#\n",
    "\n",
    "\n",
    "\n",
    "\n",
    "\n",
    "\n"
   ]
  },
  {
   "cell_type": "markdown",
   "metadata": {},
   "source": [
    "# Titulo nivel 1 \n",
    "## Titulo nivel 2\n",
    "### Titulo nivel 3\n",
    "\n",
    "*Esto es una cursiva* \n",
    "\n",
    "\n",
    "***Esto es una negrita y cursiva***\n",
    "\n",
    "_Esto tambien es una cursiva_ \n",
    "\n",
    "\n",
    "# Pueden googlear mas de estos :)) para hacerle cheto jeje\n",
    " \n",
    "\n",
    "\n",
    "\n",
    "\n",
    "\n"
   ]
  },
  {
   "cell_type": "code",
   "execution_count": 8,
   "metadata": {},
   "outputs": [
    {
     "name": "stdout",
     "output_type": "stream",
     "text": [
      "holi gente \n",
      "True\n"
     ]
    }
   ],
   "source": [
    "#orden de ejecucion es linea por linea \n",
    "\n",
    "print('holi gente ') #esto se ejecuta primero \n",
    "print(True) #esto se ejecuta posteriormente \n"
   ]
  },
  {
   "cell_type": "code",
   "execution_count": null,
   "metadata": {},
   "outputs": [],
   "source": [
    "#Tipos de datos \n",
    "\n",
    "#Strings: texto = cadena de caracteres \n",
    "#Numeros => enteros y flotantes (pi = 3.14 por ejemplo, el peso, el dolar es cambio, altura)\n",
    "#Boleanos => True or False, si se escribe con minusculas se identifica como variable y te salta como no definida, True and False como palabras reservadas reconoce directamente \n",
    "#No tippear todo a la par, pedir atencion \n",
    "#No mencionar null u otros \n",
    "# =>  Número entero -> integer -> int\n",
    "# =>  Número decimal -> floating numbers -> float\n",
    "# =>  Texto -> strings -> str\n",
    "# =>  Booleano -> True or False -> bool \n",
    "\n",
    "# Lo boleanos son muy similares a un Si y un No \n",
    "\n",
    "# Ejemplos de la vida real y relacionados a una tematica. No de algebra lineal 2, etc."
   ]
  },
  {
   "cell_type": "code",
   "execution_count": 14,
   "metadata": {},
   "outputs": [
    {
     "name": "stdout",
     "output_type": "stream",
     "text": [
      "<class 'bool'>\n",
      "<class 'str'>\n",
      "<class 'str'>\n",
      "<class 'str'>\n",
      "<class 'float'>\n"
     ]
    }
   ],
   "source": [
    "nombre_producto = \"tomate\"\n",
    "\n",
    "cantidad_de_tomates = 3 # no usa comillas \n",
    "\n",
    "peso_producto = 3.5 #kilogramos \n",
    "\n",
    "#un ejemplo del no \n",
    "nombre_atomo = 'tomate'\n",
    "\n",
    "pia_nombre = \"lechuga\"\n",
    "\n",
    "#boleanos pueden dar ejemplso relacionados al si o al no \n",
    "\n",
    "hoy_es_viernes = False \n",
    "print(type(hoy_es_viernes)) #type es una funcion que nos dice el tipo de dato \n",
    "\n",
    "hoy_es_miercoles = True \n",
    "\n",
    "#Hablemos de los tipos de datos \n",
    "print(type(nombre_producto))\n",
    "print(type(\"tomate\"))\n",
    "print(type(nombre_atomo))\n",
    "print(type(30.5))\n"
   ]
  },
  {
   "cell_type": "code",
   "execution_count": 20,
   "metadata": {},
   "outputs": [
    {
     "name": "stdout",
     "output_type": "stream",
     "text": [
      "2.0\n",
      "2\n",
      "5\n",
      "-1\n",
      "0.6666666666666666\n",
      "6\n",
      "5\n",
      "9.0\n",
      "16.0\n"
     ]
    }
   ],
   "source": [
    "#Operadores aritmeticos \n",
    "\n",
    "#suma + \n",
    "#resta - \n",
    "#multiplicacion * \n",
    "#division / \n",
    "#otros operadores \n",
    "#modulo % = porcentaje \n",
    "#exponente ** = potencia \n",
    "#division entera // = division entera \n",
    "\n",
    "print(10 /5) #division normal, mantiene el decima que es float \n",
    "print(10//5) #division entera, es un int \n",
    "\n",
    "# Operador de asignacion =, para las variables, etc \n",
    "# Operador de comparacion ==, para comparar dos valores, mas adelante \n",
    "\n",
    "print(2+3)\n",
    "print(2-3)\n",
    "print(2/3)\n",
    "print(2*3)\n",
    "\n",
    "#Suma de valores \n",
    "\n",
    "numero_uno = 2\n",
    "\n",
    "numero_dos = 3\n",
    "\n",
    "sumar = numero_uno + numero_dos \n",
    "\n",
    "print(sumar)\n",
    "\n",
    "print(2*2+12/2-1)\n",
    "\n",
    "# primero multiplicacion y division, luego suma y resta \n",
    "\n",
    "# Obs.: Podemos usar paréntesis para modificar la precedencia de operadores, asi mismo como en las matematicas \n",
    "\n",
    "print(2*2+12/(2-1)) \n",
    "\n"
   ]
  },
  {
   "cell_type": "markdown",
   "metadata": {},
   "source": [
    "## Challenge 🤺\n",
    "\n",
    "Suma: asignar dos números en dos variables diferentes `cantidad_de_manzanas` y `cantidad_de_naranjas`. Luego sumar ambas variables en `cantidad_de_frutas`. Imprimir la última variable.\n",
    "\n",
    "Resta: asignar un valor numérico a la variable `frutas_vendidas`. Luego, asignar la resta entre `cantidad_de_frutas` y `frutas_vendidas` a la variable `frutas_restantes`. Imprimir la última variable."
   ]
  },
  {
   "cell_type": "code",
   "execution_count": 23,
   "metadata": {},
   "outputs": [
    {
     "name": "stdout",
     "output_type": "stream",
     "text": [
      "Hay 9 frutas en total.\n",
      "Hay 9 frutas en total. \n",
      "Luego de la venta del día, nos sobraron 4 frutas.\n"
     ]
    }
   ],
   "source": [
    "cantidad_de_manzanas = 3\n",
    "cantidad_de_naranjas = 6\n",
    "\n",
    "cantidad_de_frutas = cantidad_de_manzanas + cantidad_de_naranjas\n",
    "print(f\"Hay {cantidad_de_frutas} frutas en total.\")\n",
    "\n",
    "# str para convertir un dato numerico a string, y tambien vimos la concatenacion con f format y con el signo + \n",
    "#como leer un error \n",
    "\n",
    "print(\"Hay \" + str(cantidad_de_frutas) + \" frutas en total. \")\n",
    "\n",
    "\n",
    "frutas_vendidas = 5\n",
    "frutas_restantes = cantidad_de_frutas - frutas_vendidas\n",
    "print(f\"Luego de la venta del día, nos sobraron {frutas_restantes} frutas.\") "
   ]
  },
  {
   "cell_type": "code",
   "execution_count": 25,
   "metadata": {},
   "outputs": [
    {
     "name": "stdout",
     "output_type": "stream",
     "text": [
      "Hay 9 frutas en total.\n"
     ]
    }
   ],
   "source": [
    "#Pedir al usuario que ingrese informacion \n",
    "\n",
    "#input es una funcion que nos permite pedirle al usuario que ingrese informacion \n",
    "\n",
    "cantidad_de_manzanas = int(input(\"Ingrese la cantidad de manzanas:\")) #input siempre devuelve un string \n",
    "\n",
    "cantidad_de_naranjas = 6  \n",
    "\n",
    "cantidad_de_frutas = int(cantidad_de_manzanas) + cantidad_de_naranjas #input siempre devuelve un string, y se usa int para concatenar\n",
    "\n",
    "print(f\"Hay {cantidad_de_frutas} frutas en total.\")"
   ]
  },
  {
   "cell_type": "markdown",
   "metadata": {},
   "source": [
    "### Challenge 🤺 \n",
    "\n",
    "Solicitar al usuario ingresar dos números y almacenarlos en dos variables. Luego, imprimir la suma de los dos números."
   ]
  },
  {
   "cell_type": "code",
   "execution_count": 26,
   "metadata": {},
   "outputs": [
    {
     "name": "stdout",
     "output_type": "stream",
     "text": [
      "la suma de los dos numeros 5 y 5 es : 10\n"
     ]
    }
   ],
   "source": [
    "numero1 = int(input('ingrese el primer numero'))\n",
    "numero2 = int (input ('ingrese el segundo numero'))\n",
    "suma = numero1 + numero2\n",
    "print(f'la suma de los dos numeros {numero1} y {numero2} es : {suma}')\n",
    "\n",
    "#usar signo de , para separar los elementos tambien se puede hacer eso con el + "
   ]
  },
  {
   "cell_type": "markdown",
   "metadata": {},
   "source": [
    "### Challenge 🤺 \n",
    "\n",
    "- Escribir un programa que pregunte el nombre y apellido del usuario. Luego de ser introducidos los datos muestre por pantalla la cadena ¡Hola {nombre} {apellido}, gusto en conocerte!, donde: {nombre} y {apellido} son los valores introducidos."
   ]
  },
  {
   "cell_type": "code",
   "execution_count": 27,
   "metadata": {},
   "outputs": [
    {
     "name": "stdout",
     "output_type": "stream",
     "text": [
      "¡Hola alexandra caceres , gusto en conocerte!\n"
     ]
    }
   ],
   "source": [
    "valor1 = input(\"Nombre\")\n",
    "valor2 = input(\"Apellido\")\n",
    "\n",
    "print(\"¡Hola \" + valor1 +\" \"+ valor2 + \" , gusto en conocerte!\")"
   ]
  },
  {
   "cell_type": "code",
   "execution_count": 28,
   "metadata": {},
   "outputs": [
    {
     "name": "stdout",
     "output_type": "stream",
     "text": [
      "¡Hola alexandra  caceres, gusto en conocerte!\n"
     ]
    }
   ],
   "source": [
    "nombre = input(\"Ingrese su nombre: \")\n",
    "apellido = input(\"Ingrese su apellido\")\n",
    "\n",
    "print(f\"¡Hola {nombre} {apellido}, gusto en conocerte!\")"
   ]
  },
  {
   "cell_type": "markdown",
   "metadata": {},
   "source": [
    "### Funciones "
   ]
  },
  {
   "cell_type": "code",
   "execution_count": 29,
   "metadata": {},
   "outputs": [
    {
     "name": "stdout",
     "output_type": "stream",
     "text": [
      "Hola, soy una funcion\n",
      "Hello world\n",
      "Maitei arapy\n"
     ]
    }
   ],
   "source": [
    "#definir una funcion \n",
    "#parametros y argumentos \n",
    "#Funcion saludar, nos permite obtener el saludo en 3 idiomas \n",
    "\n",
    "def saludar(): #definimos la funcion saludar\n",
    "    print('Hola, soy una funcion') #seri de instrucciones al llamar a la funcion, \n",
    "    print(\"Hello world\") #en ingles\n",
    "    print(\"Maitei arapy\") #en guarani \n",
    "saludar() #llamamos a la funcion\n",
    "\n",
    "#Observaciones: \n",
    "#Definir un nombre, y hacer la relacion a que la funcion para ejecutar se la llama por su nombre \n",
    "#Todo lo que va despues del : conforma el cuerpo de la funcion, la serie de pasos que se van a ejecutar al \n",
    "#Llamar, a la funcion por su nombre \n",
    "\n",
    "\n",
    "\n",
    "\n",
    "\n"
   ]
  },
  {
   "cell_type": "markdown",
   "metadata": {},
   "source": [
    "# Crear la funcion cocinar una pizza\n"
   ]
  },
  {
   "cell_type": "code",
   "execution_count": 31,
   "metadata": {},
   "outputs": [
    {
     "name": "stdout",
     "output_type": "stream",
     "text": [
      "amazar\n",
      "agregar ingredientes\n",
      "al horno\n"
     ]
    }
   ],
   "source": [
    "#cantar en la michi pizzeriaaa \n",
    "def Michipizzeria():\n",
    "    print(\"amazar\")\n",
    "    print(\"agregar ingredientes\")\n",
    "    print(\"al horno\")\n",
    "\n",
    "Michipizzeria() "
   ]
  },
  {
   "cell_type": "markdown",
   "metadata": {},
   "source": [
    "# Crear la funcion lavarropas\n"
   ]
  },
  {
   "cell_type": "code",
   "execution_count": null,
   "metadata": {},
   "outputs": [],
   "source": []
  },
  {
   "cell_type": "code",
   "execution_count": null,
   "metadata": {},
   "outputs": [],
   "source": []
  },
  {
   "cell_type": "code",
   "execution_count": 32,
   "metadata": {},
   "outputs": [
    {
     "name": "stdout",
     "output_type": "stream",
     "text": [
      "1- Cargar la ropa sucia al lavarropas\n",
      "2- Poner jabon en el espacio correspondiente\n",
      "3- Seleccionar el modo de lavado y presionar 'iniciar'\n",
      "4- Cuando termina el proceso, colgar la ropa.\n"
     ]
    }
   ],
   "source": [
    "def lavarropas():\n",
    "    print(\"1- Cargar la ropa sucia al lavarropas\")\n",
    "    print(\"2- Poner jabon en el espacio correspondiente\")\n",
    "    print(\"3- Seleccionar el modo de lavado y presionar 'iniciar'\")\n",
    "    print(\"4- Cuando termina el proceso, colgar la ropa.\")\n",
    "\n",
    "lavarropas()"
   ]
  },
  {
   "cell_type": "code",
   "execution_count": 33,
   "metadata": {},
   "outputs": [
    {
     "name": "stdout",
     "output_type": "stream",
     "text": [
      "Mezclar los ingredientes para la masa.\n",
      "Amasar y dejar reposar.\n",
      "Estirar la masa y darle forma.\n",
      "Cortar tomate, cebolla y ajo.\n",
      "Cocinar las verduras.\n",
      "Colocar la salsa sobre la masa.\n",
      "Cubrir la salsa con queso.\n",
      "Agregar los ingredientes de su preferencia.\n",
      "Meter al horno durante 40 min.\n",
      "Servir.\n",
      "------------------------------------------\n",
      "Cargar la ropa sucia al lavarropas.\n",
      "Poner jabon y suavisante en el espacio correspondiente.\n",
      "Seleccionar el modo de lavado y presionar 'iniciar'.\n",
      "Cuando termina el proceso, colgar la ropa.\n"
     ]
    }
   ],
   "source": [
    "def cocinar_pizza():\n",
    "    print(\"Mezclar los ingredientes para la masa.\")\n",
    "    print(\"Amasar y dejar reposar.\")\n",
    "    print(\"Estirar la masa y darle forma.\")\n",
    "    print(\"Cortar tomate, cebolla y ajo.\")\n",
    "    print(\"Cocinar las verduras.\")\n",
    "    print(\"Colocar la salsa sobre la masa.\")\n",
    "    print(\"Cubrir la salsa con queso.\")\n",
    "    print(\"Agregar los ingredientes de su preferencia.\")\n",
    "    print(\"Meter al horno durante 40 min.\")\n",
    "    print(\"Servir.\")\n",
    "\n",
    "def lavarropas():\n",
    "    print(\"Cargar la ropa sucia al lavarropas.\")\n",
    "    print(\"Poner jabon y suavisante en el espacio correspondiente.\")\n",
    "    print(\"Seleccionar el modo de lavado y presionar 'iniciar'.\")\n",
    "    print(\"Cuando termina el proceso, colgar la ropa.\")\n",
    "\n",
    "cocinar_pizza()\n",
    "\n",
    "print(\"------------------------------------------\")\n",
    "lavarropas()"
   ]
  }
 ],
 "metadata": {
  "kernelspec": {
   "display_name": "Python 3.10.6 64-bit",
   "language": "python",
   "name": "python3"
  },
  "language_info": {
   "codemirror_mode": {
    "name": "ipython",
    "version": 3
   },
   "file_extension": ".py",
   "mimetype": "text/x-python",
   "name": "python",
   "nbconvert_exporter": "python",
   "pygments_lexer": "ipython3",
   "version": "3.10.6"
  },
  "orig_nbformat": 4,
  "vscode": {
   "interpreter": {
    "hash": "e7370f93d1d0cde622a1f8e1c04877d8463912d04d973331ad4851f04de6915a"
   }
  }
 },
 "nbformat": 4,
 "nbformat_minor": 2
}
