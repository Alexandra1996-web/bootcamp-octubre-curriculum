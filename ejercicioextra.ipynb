{
 "cells": [
  {
   "cell_type": "code",
   "execution_count": null,
   "metadata": {},
   "outputs": [],
   "source": [
    "#Fuente curso de repaso y para entrevistas en python https://www.udemy.com/course/30-ejercicios-resueltos-en-python/learn/lecture/31766524#overview \n",
    "\n",
    "\n",
    "# https://aprendeconalf.es/docencia/python/ejercicios/ Fuente 2 para mirar \n",
    "\n",
    "# https://pythondiario.com/ejercicios-de-programacion-python Fuente 3 para mirar ejercicios de python\n",
    "\n",
    "#https://www.mclibre.org/consultar/python/lecciones/python-while.html#:~:text=El%20bucle%20while,-Un%20bucle%20while&text=Python%20eval%C3%BAa%20la%20condici%C3%B3n%3A,mientras%20la%20condici%C3%B3n%20sea%20cierta. Explicacion de While True en python\n",
    "\n",
    "#Ruta de aprendizaje de python https://roadmap.sh/python "
   ]
  },
  {
   "cell_type": "markdown",
   "metadata": {},
   "source": [
    "REPASO DE FUNDAMENTOS DE PYTHON "
   ]
  },
  {
   "cell_type": "markdown",
   "metadata": {},
   "source": [
    "Programa 1: Crear un programa que pida al usuario insertar un password, comparar y si se cumple la condicion la condicion imprimir Bienvenido, si no, imprimir Contrasenha incorrecta, *y volver a pedir el password un vez*. \n",
    "\n",
    "#esto nos indica debe ser solo con el condicional no hace falta bucle. \n",
    "\n",
    "Programa 1, con modificacion: Si agrego: El programa debe terminar cuando el usuario ingrese la contrasenha correcta. Nos indica debemos usar un *bucle*. "
   ]
  },
  {
   "cell_type": "code",
   "execution_count": null,
   "metadata": {},
   "outputs": [],
   "source": [
    "#si se cumple la condicion, ejecuta la siguiente sentencia esta es la traduccion al lenguaje humano del if\n",
    "\n",
    "\n",
    "#problema 1 \n",
    "password = input('Ingrese la contrasenha:')\n",
    "\n",
    "''' \n",
    "if password == 'purete': #condicion \n",
    "    print('Bienvenido') #sentencia a utilizar \n",
    "else:\n",
    "    print('Constrasenha incorrecta')\n",
    "    input('Vuelva a ingresar otra contrasenha, tenes un intento mas')\n",
    "    print('Fin del programa')\n",
    "'''  \n",
    "#problema 1 modificado \n",
    "\n",
    "#opcion 1.1. Utilizando la palabra reservada break, tambien hablar sobre pass \n",
    "#hablar sobre la ejecucion en bloques en python y por bloques de codigo. \n",
    "\n",
    "\n",
    "'''\n",
    "while True:\n",
    "    if password == 'purete':\n",
    "        print(\"Bienvenido\")\n",
    "        break \n",
    "    else:\n",
    "        print('Contrasenha incorrecta')\n",
    "        password = input('Vuelva a ingresar otra contrasenha, tenes un intento mas') #alcance de la variable scope dentro de la funcion diferencia entre global y local \n",
    "        #print('Fin del programa') tiene que estar fuera porque cada vez que se ejecuta el while se ejecuta el else y el print \n",
    "print('Fin del programa')\n",
    "''' \n",
    "\n",
    "while True != False:\n",
    "    if password == 'purete':\n",
    "        print(\"Bienvenido\")\n",
    "    else:\n",
    "        print('Contrasenha incorrecta')\n",
    "        password = input('Vuelva a ingresar otra contrasenha, tenes un intento mas') "
   ]
  },
  {
   "cell_type": "markdown",
   "metadata": {},
   "source": [
    "Crear un programa que pida al usuario una palabra y muestre por la pantalla si es palindroma "
   ]
  },
  {
   "cell_type": "code",
   "execution_count": null,
   "metadata": {},
   "outputs": [],
   "source": []
  },
  {
   "cell_type": "markdown",
   "metadata": {},
   "source": [
    "Si la letra de la palabra a encontrar es igual a la letra de la palabra ingresada, entonces se agrega a la lista resultado la letra de la palabra a encontrar entre corchetes "
   ]
  },
  {
   "cell_type": "code",
   "execution_count": null,
   "metadata": {},
   "outputs": [],
   "source": []
  },
  {
   "cell_type": "markdown",
   "metadata": {},
   "source": [
    "Live coding de Web Scraping con Python  https://j2logo.com/python/web-scraping-con-python-guia-inicio-beautifulsoup/#scraping-con-python\n"
   ]
  },
  {
   "cell_type": "markdown",
   "metadata": {},
   "source": [
    "RESOLVER EL WORDLE:  https://wordle.danielfrg.com/ hacer con html y css, tailwindcss "
   ]
  },
  {
   "cell_type": "markdown",
   "metadata": {},
   "source": [
    "### DECLARACION DE VARIABLES Y FORMAS DE CONCATENACION"
   ]
  },
  {
   "cell_type": "markdown",
   "metadata": {},
   "source": [
    "PROGRAMA A RESOLVER:\n",
    "\n",
    "- Escribir un programa que pregunte el nombre y apellido del usuario. Luego de ser introducidos los datos muestre por pantalla la cadena ¡Hola {nombre} {apellido}, gusto en conocerte!, donde:\n",
    "\n",
    "    {nombre} y {apellido} son los valores introducidos."
   ]
  },
  {
   "cell_type": "code",
   "execution_count": null,
   "metadata": {},
   "outputs": [],
   "source": [
    "# Solución 1: Operador de Formato %\n",
    "\n",
    "# Declaracion de variables\n",
    "nombre = \"\"\n",
    "apellido = \"\"\n",
    "\n",
    "# Solicitud de Datos\n",
    "print(\">>> Introduce tu nombre: \")\n",
    "nombre = input(\"> \")\n",
    "print(\">>> Introduce tu apellido: \")\n",
    "apellido = input(\"> \")\n",
    "\n",
    "# Mensaje en Pantalla: Operador de Formato %\n",
    "print(\"Hola %s %s, gusto en conocerte!\" %(nombre,apellido))\n"
   ]
  },
  {
   "cell_type": "code",
   "execution_count": null,
   "metadata": {},
   "outputs": [],
   "source": [
    "''' Solución 2: Método .format()\n",
    "\n",
    "Realiza una operación de formato de cadena. La cadena en la que se llama a este método puede contener texto literal o campos de reemplazo delimitados por llaves {}. Cada campo de reemplazo contiene el índice numérico (0,1,2,3 ...)  de un argumento posicional o el nombre de un argumento de palabra clave.\n",
    "\n",
    "Devuelve una copia de la cadena donde cada campo  se reemplaza con el valor de cadena del argumento correspondiente. ''' \n",
    "\n",
    "# Declaracion de variables\n",
    "nombre = \"\"\n",
    "apellido = \"\"\n",
    "\n",
    "# Solicitud de Datos\n",
    "print(\">>> Introduce tu nombre: \")\n",
    "nombre = input(\"> \")\n",
    "print(\">>> Introduce tu apellido: \")\n",
    "apellido= input(\"> \")\n",
    "\n",
    "# Mensaje en Pantalla: Metodo .format()\n",
    "print(\"Hola {0} {1}, gusto en conocerte!\".format(nombre,apellido))"
   ]
  },
  {
   "cell_type": "code",
   "execution_count": null,
   "metadata": {},
   "outputs": [],
   "source": [
    "\n",
    "''' Solución 3: f-strings\n",
    "\n",
    "Los literales de cadena con formato tienen el prefijo 'f' (Disponibles desde la version de Python 3.6) y son similares a las cadenas de formato aceptadas por str.format(). Contienen campos de reemplazo rodeados por llaves {}. Los campos de reemplazo son expresiones, que se evalúan en tiempo de ejecución y luego se les da formato usando el protocolo format(): ''' \n",
    "\n",
    "\n",
    "# Declaracion de variables\n",
    "nombre = \"\"\n",
    "apellido = \"\"\n",
    "\n",
    "# Solicitud de Datos\n",
    "print(\">>> Introduce tu nombre: \")\n",
    "nombre = input(\"> \")\n",
    "print(\">>> Introduce tu apellido: \")\n",
    "apellido= input(\"> \")\n",
    "\n",
    "# Mensaje en Pantalla: f-strings\n",
    "print(f\"Hola {nombre} {apellido}, gusto en conocerte!\")"
   ]
  },
  {
   "cell_type": "code",
   "execution_count": null,
   "metadata": {},
   "outputs": [],
   "source": [
    "#Solucion 4: Concatenacion de cadenas con el signo + \n",
    "\n",
    "print(\">>> Introduce tu nombre: \")\n",
    "nombre = input(\"Introduce tu nombre: \")\n",
    "print(\">>> Introduce tu apellido: \")\n",
    "apellido = input('Introduce tu apellido: ')\n",
    "\n",
    "print(\"Hola \" + nombre + \" \" + apellido + \", gusto en conocerte!\")\n",
    "\n",
    "#en este ejercicio se puede hablar de la ejecucion en bloques de codigo de python "
   ]
  },
  {
   "cell_type": "markdown",
   "metadata": {},
   "source": [
    "### EJERCICIOS DE CONDICIONALES "
   ]
  },
  {
   "cell_type": "code",
   "execution_count": null,
   "metadata": {},
   "outputs": [],
   "source": [
    "#🙌 Explicar que el \\n es para salto de linea\n",
    "#🙌 Explicar que el \\t es para tabulacion  \n",
    "\n",
    "#Averiguar "
   ]
  }
 ],
 "metadata": {
  "kernelspec": {
   "display_name": "Python 3.10.2 64-bit",
   "language": "python",
   "name": "python3"
  },
  "language_info": {
   "codemirror_mode": {
    "name": "ipython",
    "version": 3
   },
   "file_extension": ".py",
   "mimetype": "text/x-python",
   "name": "python",
   "nbconvert_exporter": "python",
   "pygments_lexer": "ipython3",
   "version": "3.10.2"
  },
  "orig_nbformat": 4,
  "vscode": {
   "interpreter": {
    "hash": "369f2c481f4da34e4445cda3fffd2e751bd1c4d706f27375911949ba6bb62e1c"
   }
  }
 },
 "nbformat": 4,
 "nbformat_minor": 2
}
