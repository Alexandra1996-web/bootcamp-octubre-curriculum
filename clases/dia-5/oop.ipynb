{
 "cells": [
  {
   "cell_type": "markdown",
   "metadata": {},
   "source": [
    "## 🐶🐱 Programación orientada a objetos\n",
    "\n",
    "Python también nos permite representar cosas del mundo real, más fielmente por medio de estructuras de datos llamadas **objetos**. Por eso podemos ver a los objetos como agrupaciones de datos y los métodos que operan en dichos datos.\n",
    "\n",
    "Tanto sus atributos (características y propiedades) como sus métodos (funciones que nos permiten interactuar con el objeto) se definen en una `clase`.\n",
    "\n",
    "\n",
    "Esta `clase` es como una plantilla para los objetos que queremos crear, como un molde.\n",
    "\n",
    "\n",
    "\n",
    "Luego ese molde se utiliza para crear la cantidad que necesitemos de los `objetos` de esa `clase`.\n",
    "\n",
    "\n",
    "Por ejemplo, podemos representar a una persona con propiedades como nombre, edad, género, etc. y los comportamientos de dicha persona como caminar, cantar, comer, etc. De la misma manera podemos representar unos audífonos con propiedades como su marca, tamaño, color, etc. y sus comportamientos como reproducir música, pausar y avanzar a la siguiente canción.\n",
    "\n",
    "Link: https://j2logo.com/python/tutorial/programacion-orientada-a-objetos/#:~:text=Python%20es%20un%20lenguaje%20orientado%20a%20objetos,-S%C3%AD%2C%20soy%20un&text=Cuando%20creas%20una%20variable%20y,Y%20as%C3%AD%20podr%C3%ADa%20seguir%20indefinidamente \n",
    "\n",
    "---------------------------------------------------------------\n",
    "\n",
    "Python nos permite representar cosas del mundo real por medio de estructuras de datos llamadas objetos. \n",
    "\n",
    "\n",
    "✅ Atributos = caracteristicas\n",
    "\n",
    "\n",
    "✅ Atributo de clase = ejemplo mascotas son mamiferos  \n",
    "\n",
    "\n",
    "✅ Atributo de instancia = propios de un objeto en especifico\n"
   ]
  },
  {
   "cell_type": "code",
   "execution_count": 1,
   "metadata": {},
   "outputs": [
    {
     "name": "stdout",
     "output_type": "stream",
     "text": [
      "2\n"
     ]
    }
   ],
   "source": [
    "class Mascota: # crear mi clase Mascota por medio de la palabra reservada class \n",
    "    ojos = 2 #atributo de clase\n",
    "    boca = 1 #atributo de clase \n",
    "#metodo constructor __init__ y un parametro especial self \n",
    "    def __init__(self, nombre, raza, color): # inicializa la clase y le asignamos atributos de instancia \n",
    "        self.nombre = nombre \n",
    "        self.raza = raza \n",
    "        self.color = color \n",
    "#crear mi objeto \n",
    "\n",
    "mi_gato = Mascota(\"michi\",\"siames\",\"blanco\") #creo mi objeto y le paso los atributos especificos del obj. instancia\n",
    "mi_perro = Mascota(\"rex\", \"labrador\", \"amarillo\") #creo mi objeto y le paso los atributos especificos del obj. instancia\n",
    "\n",
    "print(mi_gato.nombre)\n",
    "print(mi_gato.ojos)\n",
    "print(mi_gato.raza)\n",
    "\n",
    "print(mi_perro.color)\n",
    "print(mi_perro.raza)\n",
    "\n",
    "print(mi_perro)"
   ]
  },
  {
   "cell_type": "markdown",
   "metadata": {},
   "source": [
    "## 🔴🟠🟡 Definiendo atributos\n",
    "\n",
    "✍🏻 Es importante distinguir que existen dos tipos de atributos:\n",
    "\n",
    "✍🏻 **Atributos de clase:** Son atributos cuyos valores definen a la clase, por lo tanto serán comunes para todos los objetos. (Mostrar el que ya teníamos arriba)\n",
    "\n",
    "✍🏻 **Atributos de instancia:** Son atributos cuyos valores son específicos de los objetos creados (la instancia). En nuestro caso, de ambas mascotas tiene el atributo `nombre`, pero cada una tiene un valor diferente, que se define al crear el objeto. (Mostrar los de instancia)\n"
   ]
  },
  {
   "cell_type": "code",
   "execution_count": 2,
   "metadata": {},
   "outputs": [
    {
     "name": "stdout",
     "output_type": "stream",
     "text": [
      "Oliver 2\n",
      "Animalia\n",
      "aves\n"
     ]
    }
   ],
   "source": [
    "#https://j2logo.com/python/tutorial/programacion-orientada-a-objetos/#:~:text=Python%20es%20un%20lenguaje%20orientado%20a%20objetos,-S%C3%AD%2C%20soy%20un&text=Cuando%20creas%20una%20variable%20y,Y%20as%C3%AD%20podr%C3%ADa%20seguir%20indefinidamente.\n",
    "\n",
    "class Mascota:\n",
    "    ojos = 2\n",
    "\n",
    "    def __init__(self, nombre):\n",
    "        self.nombre = nombre\n",
    "\n",
    "mi_mascota = Mascota(\"Oliver\")\n",
    "# mi_otra_mascota = Mascota(\"Oliver\")\n",
    "\n",
    "print(mi_mascota.nombre, mi_mascota.ojos)\n",
    "# print(mi_otra_mascota.nombre, mi_otra_mascota.ojos)\n",
    "\n",
    "#otro ejemplo de clase \n",
    "\n",
    "class Pinguino:\n",
    "    familia = \"Animalia\"\n",
    "    especie = \"aves\"\n",
    "    def __init__(self, nombre):\n",
    "        self.nombre = nombre \n",
    "\n",
    "mi_pinguino = Pinguino(\"Pengu\")\n",
    "\n",
    "print(mi_pinguino.familia) \n",
    "print(mi_pinguino.especie)\n"
   ]
  },
  {
   "cell_type": "markdown",
   "metadata": {},
   "source": [
    "## Challenge \n",
    "\n",
    "Crear dos class de animales que tengan atributos de clase y de instancia.\n",
    "\n",
    "- Atributos de clase: `especie`.\n",
    "- Atributos de instancia: `nombre` & `color`.\n",
    "Luego, crear nuevos objetos a partir de las nuevas class. Imprimir el nombre y el color de los animales en una frase que diga: \"Me llamo `{nombre}` y soy un ave de color `{color}`\".\n",
    "\n",
    "\n",
    "# O dependiendo del tiempo \n",
    "\n",
    "\n",
    "## Challenge \n",
    "\n",
    "Crear dos class de animales que tengan atributos de clase y de instancia.\n",
    "\n",
    "- Atributos de clase: `especie`.\n",
    "- Atributos de instancia: `nombre` & `color`."
   ]
  },
  {
   "cell_type": "code",
   "execution_count": 3,
   "metadata": {},
   "outputs": [
    {
     "name": "stdout",
     "output_type": "stream",
     "text": [
      "Me llamo Michi y soy un felino de color gris\n",
      "Me llamo Rene y soy un anfibio de color Verde\n"
     ]
    }
   ],
   "source": [
    "class Gato:\n",
    "    especie = \"felino\"\n",
    "\n",
    "    def __init__ (self, nombre, color): \n",
    "        self.nombre = nombre\n",
    "        self.color = color\n",
    "\n",
    "gato1 = Gato(\"Michi\", \"gris\")\n",
    "\n",
    "class Rana:\n",
    "    especie = \"anfibio\"\n",
    "\n",
    "    def __init__ (self, nombre, color):\n",
    "        self.nombre = nombre\n",
    "        self.color = color\n",
    "\n",
    "rana1 = Rana(\"Rene\", \"Verde\")\n",
    "\n",
    "print(\"Me llamo\", gato1.nombre, \"y soy un\", Gato.especie, \"de color\", gato1.color)\n",
    "print(\"Me llamo\", rana1.nombre, \"y soy un\", Rana.especie, \"de color\", rana1.color)\n",
    "\n"
   ]
  },
  {
   "cell_type": "code",
   "execution_count": null,
   "metadata": {},
   "outputs": [],
   "source": [
    "#Solucion de Vale \n",
    "\n",
    "class Pinguino: \n",
    "    especie = \"ave\" \n",
    "    def __init__(self, nombre, color): \n",
    "        self.nombre = nombre\n",
    "        self.color = color\n",
    "mi_animal1 = Pinguino (\"Piplup\",\"negro y blanco\") \n",
    "print(mi_animal1.nombre) \n",
    "print(mi_animal1.color)\n",
    "\n",
    "class Perro: \n",
    "    especie = \"canino\" \n",
    "    def __init__(self, nombre, color): \n",
    "        self.nombre = nombre\n",
    "        self.color = color\n",
    "mi_animal2 = Perro (\"Rex\",\"golden\") \n",
    "print(mi_animal2.nombre) \n",
    "print(mi_animal2.color)\n"
   ]
  },
  {
   "cell_type": "markdown",
   "metadata": {},
   "source": [
    "## 🏃🏻‍♂️🏃🏻‍♀️ Definiendo métodos\n",
    "En realidad cuando usamos `__init__` anteriormente ya estábamos definiendo un método, solo que uno especial. Uno que se ejecuta al momento de crear un objeto. A continuación vamos a ver como definir métodos que le den alguna funcionalidad interesante a nuestra clase\n",
    "\n",
    "✅ Metodos le dan funcionalidad al objeto. Por ello decimos que un metodo es una funcion de un objeto. "
   ]
  },
  {
   "cell_type": "code",
   "execution_count": null,
   "metadata": {},
   "outputs": [],
   "source": [
    "# Primer ejemplo \n",
    "\n",
    "class Mascota:\n",
    "    ojos = 2 #atributo de clase \n",
    "\n",
    "    def __init__(self, nombre): #init inicializa la clase atributo de instancia \n",
    "        self.nombre = nombre \n",
    "    #funcion sin definir parametros y argumentos \n",
    "\n",
    "    def caminar(self): #funcion a la que no le pasamos argumentos --> metodo = funcionalidades \n",
    "        print(\"Estoy caminando\") # imprimir Estoy caminando \n",
    "    #funcion definiendo con parametros y argumentos \n",
    "\n",
    "    def comer(self, kg_de_comida, comida): # --> metodo = funcionalidades  \n",
    "        print(\"Comi\",  kg_de_comida, \"kg de \" + comida)\n",
    "\n",
    "mi_mascota_gato = Mascota(\"Paco\") # creando el objeto, mi_mascota_gato \n",
    "\n",
    "mi_mascota_gato.caminar() #accedemos al metodo caminar \n",
    "print(mi_mascota_gato.ojos)\n",
    "mi_mascota_gato.comer(2, \"purina\") # le pase los argumentos a la funcion comer \n",
    "\n"
   ]
  },
  {
   "cell_type": "code",
   "execution_count": 4,
   "metadata": {},
   "outputs": [
    {
     "name": "stdout",
     "output_type": "stream",
     "text": [
      "zzZzZzZz, 7 horas\n",
      "2 Paco\n"
     ]
    }
   ],
   "source": [
    "# Otro ejemplo \n",
    "\n",
    "class Mascota:\n",
    "    ojos = 2\n",
    "\n",
    "    def __init__(self, nombre):\n",
    "        self.nombre = nombre\n",
    "    \n",
    "\n",
    "    def caminar(self):\n",
    "        print(\"Estoy caminando\")\n",
    "\n",
    "    def dormir(self, horas):\n",
    "        print(f\"zzZzZzZz, {horas} horas\")\n",
    "\n",
    "    def comer(self, kg_de_comida, comida):\n",
    "        print(\"Comí \" + kg_de_comida + \" Kg de \" + comida)\n",
    "\n",
    "\n",
    "mi_mascota = Mascota(\"Paco\")\n",
    "\n",
    "'''Para crear un objeto de una clase determinada, es decir, instanciar una clase, se usa el nombre de la clase y a continuación se añaden paréntesis (como si se llamara a una función).'''\n",
    "\n",
    "mi_mascota.dormir(7)\n",
    "# mi_otra_mascota = Mascota(\"Firulais\")\n",
    "\n",
    "print(mi_mascota.ojos, mi_mascota.nombre)\n",
    "# print(mi_otra_mascota.nombre, mi_otra_mascota.ojos)"
   ]
  },
  {
   "cell_type": "markdown",
   "metadata": {},
   "source": [
    "## Challenge\n",
    "Crear dos métodos por animal, que sea hablar y moverse.\n",
    "\n",
    "En el método hablar, imprimir: \"Cuando hablo, digo X\".\n",
    "En el método mover, imprimir: \"Cuando me muevo, hago X\".\n",
    "\n",
    "X debe ser algo específico de ese animal"
   ]
  },
  {
   "cell_type": "code",
   "execution_count": 5,
   "metadata": {},
   "outputs": [
    {
     "name": "stdout",
     "output_type": "stream",
     "text": [
      "Hola mi nombre es Aquiles y soy un gato de color Blanco\n",
      "Lo unico que mi gato sabe decir esMiau lastimosamente\n",
      "El gato cuando tiene hambre va a la cocina que esta a 100 pasos de su arenero.\n"
     ]
    }
   ],
   "source": [
    "# Solución de participante\n",
    "\n",
    "class Gato:\n",
    "    Especie = \"felino\"\n",
    "    def __init__(self, nombre, color):\n",
    "        print(\"Hola mi nombre es \" + nombre + \" \" \"y soy un gato de color \" + color)\n",
    "        self.nombre = nombre\n",
    "        self.color = color\n",
    "    def habla(self, habla):\n",
    "        print(\"Lo unico que mi gato sabe decir es\" + habla + \" \" \"lastimosamente\")\n",
    "    def pasos(self, paso):\n",
    "        print(f\"El gato cuando tiene hambre va a la cocina que esta a {paso} pasos de su arenero.\")\n",
    "mi_gato = Gato(\"Aquiles\", \"Blanco\")\n",
    "\n",
    "mi_gato.habla(\"Miau\")\n",
    "mi_gato.pasos(100)"
   ]
  },
  {
   "cell_type": "markdown",
   "metadata": {},
   "source": [
    "## 👑 Herencia\n",
    "\n",
    "✍🏻 Esto no es una herencia como tal, sino una relación entre clases.\n",
    "✍🏻Lo que representa la herencia es que una clase hereda los atributos y métodos de otra clase. (mostrar ejemplo)\n",
    "\n",
    "✍🏻 Dado que una clase hija hereda los atributos y métodos de la padre, nos puede ser muy útil cuando tengamos clases que se parecen entre sí pero tienen ciertas particularidades"
   ]
  },
  {
   "cell_type": "code",
   "execution_count": null,
   "metadata": {},
   "outputs": [],
   "source": [
    "#relacion entre clases \n",
    "\n",
    "class Reptil: #creando la clase \n",
    "    tipo = \"reptil,sangre fria\" #atributo de clase \n",
    "    def __init__(self,color, sonido): #atributo de intancias color y sonido \n",
    "        self.color = color \n",
    "        self.sonido = sonido \n",
    "    #crear un metodo generico hablar \n",
    "    def hablar(self):\n",
    "        print(\"Hola soy un reptil\")\n",
    "\n",
    "class Serpiente(Reptil): #la clase madre es reptil, y la clase serpiente hereda de reptil \n",
    "    veneno = True \n",
    "\n",
    "    def arrastrarse(self):\n",
    "        print(\"Estoy arrastrandome\")\n",
    "#creacion de objetos \n",
    "mi_reptil = Reptil(\"verde\", \"tss\") #creo mi objeto \n",
    "print(mi_reptil.color) #accediendo \n",
    "mi_serpiente = Serpiente(\"amarillito\", \"zzzzzz\")\n",
    "mi_serpiente.hablar() \n"
   ]
  },
  {
   "cell_type": "code",
   "execution_count": 17,
   "metadata": {},
   "outputs": [
    {
     "name": "stdout",
     "output_type": "stream",
     "text": [
      "Verde\n",
      "10\n",
      "Reptil\n",
      "Hola soy un reptil\n",
      "Estoy arrastrando\n"
     ]
    }
   ],
   "source": [
    "# Otro ejemplo \n",
    "\n",
    "\n",
    "class Reptil:\n",
    "    tipo = \"Reptil\" \n",
    "\n",
    "    def __init__(self, color, sonido):\n",
    "        self.color = color\n",
    "        self.sonido = sonido\n",
    "\n",
    "    # Método genérico pero con implementación particular\n",
    "    def hablar(self):\n",
    "        print(\"Hola soy un reptil\")\n",
    "\n",
    "    ''' # Método genérico con la misma implementación\n",
    "    def presentarse(self):\n",
    "        print(\"Soy un animal del tipo\", self.tipo) ''' \n",
    "\n",
    "class Serpiente(Reptil):\n",
    "    veneno = 10 # lts\n",
    "\n",
    "    def arrastrarse(self):\n",
    "        print(\"Estoy arrastrando\")\n",
    "\n",
    "\n",
    "''' \n",
    "class Dragon(Reptil):\n",
    "    garras = 4\n",
    "    \n",
    "    def __init__ (self, talk):\n",
    "        self.talk = talk\n",
    "\n",
    "    def escupir_fuego(self):\n",
    "        print(\"Estoy escupiendo fuego\")\n",
    "''' \n",
    "reptil = Reptil(\"Verde\",\"tuuu\") \n",
    "print(reptil.color) #accedo al atributo de instancia de la clase reptil \n",
    "mi_serpiente = Serpiente(\"azul\", \"Ssss\")\n",
    "\n",
    "print(mi_serpiente.veneno) #atributo definido para la serpiente \n",
    "print(mi_serpiente.tipo)\n",
    "mi_serpiente.hablar() #mi serpiente accede al metodo de reptil\n",
    "mi_serpiente.arrastrarse() # la funcion ya tiene dentro un print\n",
    "\n",
    "\n",
    "\n"
   ]
  },
  {
   "cell_type": "markdown",
   "metadata": {},
   "source": [
    "## Challenge \n",
    "Definir una clase madre que herede a sus clases hijas dos atributos de instancia. Mostrar ambos atributos en pantalla desde los objetos de las clases hijas.\n",
    "\n",
    "Observación: Editar las clases hijas para que no se inicialicen."
   ]
  },
  {
   "cell_type": "code",
   "execution_count": 11,
   "metadata": {},
   "outputs": [
    {
     "name": "stdout",
     "output_type": "stream",
     "text": [
      "True\n",
      "True\n",
      "Soy un terricola del tipo  Humanos\n"
     ]
    }
   ],
   "source": [
    "# Solución de participante\n",
    "\n",
    "class Terricolas:\n",
    "    def __init__ (self, respirar_carbono, luz_solar):\n",
    "        self.respirar_carbono = respirar_carbono\n",
    "        self.luz_solar = luz_solar\n",
    "\n",
    "class Humanos(Terricolas):\n",
    "    categoria= \"Terrestres\"\n",
    "\n",
    "    def describeme(self):\n",
    "        print(\"Soy un terricola del tipo \", type(self).__name__)\n",
    "\n",
    "\n",
    "\n",
    "paladin = Humanos(True,True)\n",
    "print(paladin.respirar_carbono)\n",
    "print(paladin.luz_solar)\n",
    "paladin.describeme()"
   ]
  }
 ],
 "metadata": {
  "kernelspec": {
   "display_name": "Python 3.10.4 64-bit",
   "language": "python",
   "name": "python3"
  },
  "language_info": {
   "codemirror_mode": {
    "name": "ipython",
    "version": 3
   },
   "file_extension": ".py",
   "mimetype": "text/x-python",
   "name": "python",
   "nbconvert_exporter": "python",
   "pygments_lexer": "ipython3",
   "version": "3.10.4"
  },
  "orig_nbformat": 4,
  "vscode": {
   "interpreter": {
    "hash": "aee8b7b246df8f9039afb4144a1f6fd8d2ca17a180786b69acc140d282b71a49"
   }
  }
 },
 "nbformat": 4,
 "nbformat_minor": 2
}
