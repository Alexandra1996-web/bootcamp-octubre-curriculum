{
 "cells": [
  {
   "cell_type": "markdown",
   "metadata": {},
   "source": [
    "## Diccionarios\n",
    "\n",
    "\n",
    "✍🏻 Un diccionario es una colección de pares formados por una clave y un valor asociado a la clave. Se construyen poniendo los pares entre llaves `{ }` separados por comas, y separando la clave del valor con dos puntos :.\n",
    "\n",
    "✍🏻 Otra explicacion para tippear: \n",
    "\n",
    "✅ Un diccionario es una coleccion de pares formados por una claves (ejemplo: es la palabra) y un valor (el significado).\n",
    "\n",
    "✅ Sintaxis de los diccionarios a diferencia de las listas:\n",
    "\n",
    "{} llaves y la separacion de pares ocurre por medio de la coma ,\n",
    "\n",
    "✅ Para entenderlo podemos pensar en ellos como los diccionarios o enciclopedias de idiomas. \n",
    "\n",
    "\n",
    "✍🏻 Se caracterizan por:\n",
    "\n",
    "- Orden de los diccionarios \n",
    "\n",
    "\n",
    "El diccionario es una colección ordenada** y modificable. No tiene miembros duplicados.\n",
    "**A partir de la versión 3.7 de Python, los diccionarios están ordenados. En Python 3.6 y anteriores, los diccionarios no están ordenados.\n",
    "https://novamentis.edu.do/lessons/leccion-diccionarios-de-python/ \n",
    "\n",
    "- Pueden contener elementos de distintos tipos.\n",
    "- Son mutables, es decir, pueden alterarse durante la ejecución de un programa.\n",
    "- Las claves son únicas, es decir, no pueden repetirse en un mismo diccionario, y pueden ser de cualquier tipo de datos inmutable."
   ]
  },
  {
   "cell_type": "code",
   "execution_count": 26,
   "metadata": {},
   "outputs": [
    {
     "name": "stdout",
     "output_type": "stream",
     "text": [
      "{'heladeraa': 'Midas', 'Aspiradora': 'Aspirin', 'Cafetera': 'Espeso', 'Mesa': 'Madera', 'Termo': 'Terminico'}\n",
      "Aspirin\n",
      "Espeso\n",
      "{'heladeraa': 'Midas', 'Aspiradora': 'Aspirin', 'Cafetera': 'Cortado', 'Mesa': 'Madera', 'Termo': 'Terminico'}\n",
      "{'heladeraa': 'Midas', 'Aspiradora': 'Aspirin', 'Cafetera': 'Cortado', 'Mesa': 'Madera', 'Termo': 'Terminico', 'Mixtera': 'Huevo frito'}\n",
      "{'heladeraa': 'Midas', 'Aspiradora': 'Aspirin', 'Cafetera': 'Cortado', 'Mesa': 'Madera', 'Termo': 'Terminico'}\n",
      "{'heladeraa': 'Midas', 'Cafetera': 'Cortado', 'Mesa': 'Madera', 'Termo': 'Terminico'}\n"
     ]
    }
   ],
   "source": [
    "#https://docs.hektorprofe.net/python/metodos-de-las-colecciones/metodos-de-los-diccionarios/ Documentos de referencia \n",
    "\n",
    "diccionari_vacio = {} #diccionario vacio, no tiene nada dentro de las llaves \n",
    "mi_cafeteria = {\"heladera\":\"Tokio\", \"microondas\":\"Midas\", \"cafetera\":\"Espeso\"}\n",
    "#esto es un diccionario \n",
    "\n",
    "mi_aula = {\"televisor\":\"Tokio\", \"computadora1\":\"Mac\", \"computadora2\":\"Hp\"}\n",
    "\n",
    "print(mi_cafeteria) #imprimimos el diccionario completo \n",
    "print(type(mi_cafeteria)) #verificamos que tipo de dato es mi_cafeteria \n",
    "\n",
    "#acceder a elementos de un diccionario \n",
    "\n",
    "print(mi_cafeteria[\"heladera\"]) #accedimos al valor de heladera por medio de la clave heladera\n",
    "print(mi_cafeteria[\"cafetera\"])\n",
    "\n",
    "#reasignar o actualizar el valor de mi diccionario \n",
    "\n",
    "mi_cafeteria[\"cafetera\"] = \"Cortado\"\n",
    "\n",
    "print(mi_cafeteria)\n",
    "\n",
    "#anhadir datos al diccionario \n",
    "\n",
    "mi_cafeteria[\"Mixtera\"] = \"Mixto jamon y queso\"\n",
    "\n",
    "print(mi_cafeteria)\n",
    "\n",
    "#eliminar el ultimo par de datos, en este caso elimino mixtera con jamon y queso\n",
    "mi_cafeteria.popitem()\n",
    "print(mi_cafeteria)\n",
    "\n",
    "#eliminar por medio de la clave \n",
    "\n",
    "del mi_cafeteria[\"microondas\"]\n",
    "print(mi_cafeteria)\n",
    "\n",
    "\n",
    "\n",
    "lista_modelo = [\"Alexandra\", \"Valeria\", \"Ceci\"]\n",
    "\n",
    "#Agenda de contactos \n",
    "#Nombre: El nombre de la persona \n",
    "#Telefono: Numero de telefono \n",
    "#Correo: El correo electronico \n"
   ]
  },
  {
   "cell_type": "code",
   "execution_count": 1,
   "metadata": {},
   "outputs": [
    {
     "name": "stdout",
     "output_type": "stream",
     "text": [
      "{'nombre': 'Analia', 'apellido': 'Britez', 'email': 'analia@penguin.academy', 'telefono': '0985830794', 'direccion': 'Calle Mengano 1'}\n",
      "{'nombre': 'Analia', 'apellido': 'Britez', 'email': 'analia@penguin.academy', 'telefono': '0985830794', 'direccion': 'Calle Mengano 1', 'barrio': 'Los Laureles'}\n",
      "{'nombre': 'Analia', 'apellido': 'Britez', 'email': 'analia@penguin.academy', 'telefono': '0985830794', 'direccion': 'Calle Mengano 1', 'barrio': 'Recoleta'}\n",
      "{'nombre': 'Analia', 'apellido': 'Britez', 'email': 'analia@penguin.academy', 'telefono': '0985830794', 'direccion': 'Calle Mengano 1'}\n",
      "{'nombre': 'Analia', 'email': 'analia@penguin.academy', 'telefono': '0985830794', 'direccion': 'Calle Mengano 1'}\n"
     ]
    }
   ],
   "source": [
    "# Otro ejemplo por si se necesite \n",
    "\n",
    "# Ejemplo de diccionario\n",
    "mi_contacto = {\"nombre\": \"Analia\", \"apellido\": \"Britez\", \"email\": 'analia@penguin.academy', \"telefono\": '0985830794', \"direccion\": \"Calle Mengano 1\"}\n",
    "\n",
    "# Ejemplo de diccionario estilizado para una mejor comprensión de claves y valores\n",
    "{\n",
    "    \"nombre\": \"Analia\",\n",
    "    \"apellido\": \"Britez\",\n",
    "    \"email\": 'analia@penguin.academy',\n",
    "    \"teléfono\": '0985830794',\n",
    "    \"direccion\": 'Calle mengano 1'\n",
    "}\n",
    "\n",
    "# Imprimir el diccionario\n",
    "print(mi_contacto)\n",
    "\n",
    "# Acceder a datos del diccionario\n",
    "mi_contacto[\"nombre\"]\n"
   ]
  },
  {
   "cell_type": "code",
   "execution_count": 16,
   "metadata": {},
   "outputs": [
    {
     "name": "stdout",
     "output_type": "stream",
     "text": [
      "dict_keys(['nombre', 'email', 'telefono', 'direccion'])\n",
      "dict_values(['Analia', 'analia@penguin.academy', '0985830794', 'Calle Mengano 1'])\n",
      "dict_items([('nombre', 'Analia'), ('email', 'analia@penguin.academy'), ('telefono', '0985830794'), ('direccion', 'Calle Mengano 1')])\n"
     ]
    }
   ],
   "source": [
    "# Desplegar datos del diccionario\n",
    "\n",
    "\n",
    "print(mi_contacto.keys()) #muestra las claves del diccionario \n",
    "print(mi_contacto.values()) #muestra los valores del diccionario \n",
    "print(mi_contacto.items()) #muestra la clave y valor de un diccionario \n"
   ]
  },
  {
   "cell_type": "markdown",
   "metadata": {},
   "source": [
    "## Challenge 1 \n",
    "Escribir un programa que cree un diccionario vacío y lo vaya llenado con información sobre una persona (por ejemplo nombre, edad, teléfono, correo electrónico, etc. pueden agregar lo que quieran) que se le pida al usuario. Cada vez que se añada un nuevo dato debe imprimirse el contenido del diccionario."
   ]
  },
  {
   "cell_type": "code",
   "execution_count": 6,
   "metadata": {},
   "outputs": [
    {
     "name": "stdout",
     "output_type": "stream",
     "text": [
      "{'nombre': 'alexandra'}\n",
      "{'nombre': 'alexandra', 'numero ': '0985279404'}\n"
     ]
    }
   ],
   "source": [
    "# Crear un diccionario diccionario_vario = .....pista\n",
    "# Informacion, nombre, edad ---> clave pero nos falta tambien el valor \n",
    "# Usar forma para anhadir al diccionario \n",
    "# usuario interaccion: input \n",
    "# print al diccionario \n",
    "# Utilizar un ciclo while pistas \n",
    "\n",
    "\n",
    "datos_de_la_persona = {} #crear diccionario vacio\n",
    "seguir_preguntando_datos = True #condicion de estado = while True\n",
    "\n",
    "while seguir_preguntando_datos: \n",
    "    clave = input('¿Qué dato quieres introducir? ')\n",
    "    valor = input(clave + ': ')\n",
    "    datos_de_la_persona[clave] = valor\n",
    "    print(datos_de_la_persona)\n",
    "#condicion seguir preguntando False y luego ya se corta el sistema \n",
    "    seguir_preguntando_datos = input('¿Quieres añadir más información (S/N)? ') == \"S\""
   ]
  },
  {
   "cell_type": "code",
   "execution_count": 1,
   "metadata": {},
   "outputs": [
    {
     "name": "stdout",
     "output_type": "stream",
     "text": [
      "{'NOMBRE': 'ALEX'}\n"
     ]
    }
   ],
   "source": [
    "#otra resolucion \n",
    "\n",
    "datos = {}\n",
    "#input se condicion ciclo while true or false, antes de iniciar el programa\n",
    "ingresar_datos = input(\"desea ingresar datos? S/N\")\n",
    "\n",
    "while ingresar_datos != \"N\": #N es la palabra para cortar la condicion, porque ya deja de ser diferente\n",
    "    clave = input('¿Qué dato quieres introducir? ')\n",
    "    valor = input(' Ingrese el valor')\n",
    "    datos[clave] = valor\n",
    "    print(datos)\n",
    "    ingresar_datos = input(\"desea ingresar datos? S/N\")\n",
    "    #volver al preguntar cuando este dentro del while"
   ]
  },
  {
   "cell_type": "markdown",
   "metadata": {},
   "source": [
    "## Challenge \n",
    "\n",
    "Challenge 2 \n",
    "Crear una tarjeta personal. El usuario (mediante input) puede elegir:\n",
    "\n",
    "1. Crear datos nuevos\n",
    "2. Modificar datos\n",
    "3. Eliminar datos"
   ]
  },
  {
   "cell_type": "code",
   "execution_count": null,
   "metadata": {},
   "outputs": [],
   "source": [
    "#diccionario vacio \n",
    "\n",
    "tarjeta_personal = {}\n",
    "#menu de condiciones opciones 1, 2 y 3 \n",
    "while True:\n",
    "    menu = int(input(\"Seleccione una opción: \"))\n",
    "    #crear datos de nuevos \n",
    "    if menu == 1:\n",
    "        clave = input('¿Qué dato quieres introducir? ')\n",
    "        valor = input(clave + ': ')\n",
    "        tarjeta_personal[clave] = valor\n",
    "        print(tarjeta_personal)\n",
    "    #modificar datos \n",
    "    elif menu == 2:\n",
    "        clave = input('¿Qué dato quieres cambiar? ')\n",
    "        valor = input(clave + ': ')\n",
    "        tarjeta_personal[clave] = valor\n",
    "        print(tarjeta_personal)\n",
    "    #eliminar datos \n",
    "    elif menu == 3:\n",
    "        clave = input('¿Qué dato quieres eliminar? ')\n",
    "        del tarjeta_personal[clave]\n",
    "        print(tarjeta_personal)"
   ]
  },
  {
   "cell_type": "markdown",
   "metadata": {},
   "source": [
    "## Challenge 3 🤺\n",
    "Crear una agenda de contactos. El usuario puede elegir:\n",
    "\n",
    "1. Mostrar los contactos\n",
    "2. Crear contacto\n",
    "3. Modificar datos del contacto"
   ]
  },
  {
   "cell_type": "code",
   "execution_count": 18,
   "metadata": {},
   "outputs": [
    {
     "name": "stdout",
     "output_type": "stream",
     "text": [
      "{'nombre': 'clau', 'apellido': 'melgarejo', 'telefono': '36482346'}\n",
      "\n",
      "1. Crear datos\n",
      "2. Modificar datos \n",
      "3. Eliminar datos\n",
      "{'nombre': 'clau', 'apellido': 'melgarejo', 'telefono': '36482346'}\n"
     ]
    }
   ],
   "source": [
    "#crear diccionario vacio de contactos \n",
    "#crear parametros para lista de contactos\n",
    "#agregar claves y pasar variables de parametros \n",
    "\n",
    "tarjeta_personal = {}\n",
    "\n",
    "def crear_datos(nombre, apellido, telefono):\n",
    "    # cargar datos\n",
    "    tarjeta_personal[\"nombre\"] = nombre\n",
    "    tarjeta_personal[\"apellido\"] = apellido\n",
    "    tarjeta_personal[\"telefono\"] = telefono\n",
    "\n",
    "crear_datos(\"clau\", \"melgarejo\", \"36482346\") # cargar los valores\n",
    "\n",
    "print(tarjeta_personal)\n",
    "\n",
    "\n",
    "#-------------------------------------------------------------------------------\n",
    "\n",
    "print(\"\"\"\n",
    "1. Crear datos\n",
    "2. Modificar datos \n",
    "3. Eliminar datos\"\"\")\n",
    "\n",
    "usuario = int(input(\"Ingrese una opcion:\"))\n",
    "\n",
    "while True:\n",
    "    if usuario == 1:\n",
    "        clave_nueva = input(\"cual es el dato que quiere ingresar?\")\n",
    "        valor_nuevo = input(\"ingrese el dato\")\n",
    "        tarjeta_personal[clave_nueva] = valor_nuevo\n",
    "        print(tarjeta_personal)\n",
    "    elif usuario == 2:\n",
    "        clave_modificada = input(\"cual es el dato que quiere modificar?\")\n",
    "        valor_modificado = input(\"ingrese el dato\")\n",
    "        tarjeta_personal[clave_modificada] = valor_modificado\n",
    "        print(tarjeta_personal)\n",
    "    elif usuario == 3:\n",
    "        clave_eliminada = input(\"que valor desea eliminar\")\n",
    "        del tarjeta_personal[clave_eliminada]\n",
    "        print(tarjeta_personal)\n",
    "    else: \n",
    "        break\n",
    "    usuario = int(input(\"Ingrese una opcion:\"))\n",
    "print(tarjeta_personal)"
   ]
  }
 ],
 "metadata": {
  "kernelspec": {
   "display_name": "Python 3.10.4 64-bit",
   "language": "python",
   "name": "python3"
  },
  "language_info": {
   "codemirror_mode": {
    "name": "ipython",
    "version": 3
   },
   "file_extension": ".py",
   "mimetype": "text/x-python",
   "name": "python",
   "nbconvert_exporter": "python",
   "pygments_lexer": "ipython3",
   "version": "3.10.4"
  },
  "orig_nbformat": 4,
  "vscode": {
   "interpreter": {
    "hash": "aee8b7b246df8f9039afb4144a1f6fd8d2ca17a180786b69acc140d282b71a49"
   }
  }
 },
 "nbformat": 4,
 "nbformat_minor": 2
}
