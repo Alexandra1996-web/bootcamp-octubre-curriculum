{
 "cells": [
  {
   "cell_type": "markdown",
   "metadata": {},
   "source": [
    "# Día 2"
   ]
  },
  {
   "cell_type": "code",
   "execution_count": null,
   "metadata": {},
   "outputs": [],
   "source": [
    "#Repaso explicar variables, funciones, str"
   ]
  },
  {
   "cell_type": "markdown",
   "metadata": {},
   "source": [
    "# Scope (Alcance)\n",
    "\n",
    "Qué pasa si con una función, queremos modificar una variable que declaramos más arriba?\n",
    "\n",
    "Las variables globales son válidas durante la ejecución del programa, mientras que las locales pueden usarse únicamente dentro de la función en la que son declaradas.\n",
    "\n",
    "Las variables locales no pueden accederse fuera de la función. Sin embargo, dentro de una función sí se puede acceder a variables declaradas en el alcance (o scope) global.\n",
    "\n",
    "Pq es importante \n",
    "\n",
    "Una cuestión importante a considerar al utilizar funciones es el alcance de las variables en Python. En particular, podemos utilizar variables que tengan el mismo nombre fuera y dentro de la función. Para eso tenemos que entender la diferencia entre alcance local y alcance global de una variable. "
   ]
  },
  {
   "cell_type": "code",
   "execution_count": 1,
   "metadata": {},
   "outputs": [
    {
     "name": "stdout",
     "output_type": "stream",
     "text": [
      "Avanzamos 10 km -> 10\n",
      "Distancia recorrida: 0\n"
     ]
    }
   ],
   "source": [
    "distancia_recorrida = 0 # Km\n",
    "\n",
    "def avanzar():\n",
    "    distancia_recorrida = 10 # Comentar luego\n",
    "    print(\"Avanzamos 10 km -> \" + str(distancia_recorrida))\n",
    "\n",
    "    # global distancia_recorrida\n",
    "    # distancia_recorrida = distancia_recorrida + 10\n",
    "\n",
    "\n",
    "avanzar()\n",
    "# avanzar()\n",
    "# avanzar()\n",
    "\n",
    "## Entonces distancia_recorrida tendría que ser 10 si ejecutamos una vez?\n",
    "\n",
    "print(\"Distancia recorrida: \" + str(distancia_recorrida))"
   ]
  },
  {
   "cell_type": "markdown",
   "metadata": {},
   "source": [
    "# Funciones\n",
    "\n",
    "## Parámetros y argumentos - 20m\n",
    "\n",
    "A veces queremos ejecutar \"casi\" la misma función varias veces. Por ejemplo, si somos vendedores de autos...\n",
    "\n",
    "\n",
    "Un parámetro es un valor que la función espera recibir cuando sea llamada (invocada), a fin de ejecutar acciones en base al mismo. Una función puede esperar uno o más parámetros (que irán separados por una coma) o ninguno.\n",
    "\n",
    "\n",
    "En la definición de una función los valores que se reciben se denominan parámetros, pero durante la llamada los valores que se envían se denominan argumentos.\n",
    "\n",
    "\n",
    "Link info = parametros y argumentos https://docs.hektorprofe.net/python/programacion-de-funciones/argumentos-y-parametros/#:~:text=En%20la%20definici%C3%B3n%20de%20una,se%20env%C3%ADan%20se%20denominan%20argumentos\n",
    "\n",
    "\n",
    "Otro link: https://uniwebsidad.com/libros/python/capitulo-4/definiendo-funciones"
   ]
  },
  {
   "cell_type": "code",
   "execution_count": null,
   "metadata": {},
   "outputs": [],
   "source": [
    "def comprar_lavarropas(marca): # Parámetro\n",
    "\n",
    "    print(f\"Pedir un lavarropas de la marca {marca}\" )\n",
    "    print(\"pagar\")\n",
    "\n",
    "comprar_lavarropas(\"midas\")# Llamada con argumento\n",
    "comprar_lavarropas(\"tokyo\")# Llamada con argumento\n",
    "# ----------------------------------------------------------\n",
    "\n",
    "## Podemos pasar varios parametros\n",
    "# obs agregar parametro --instrucciones\n",
    "# def marca_lavarropas(marca, kg, metodo_de_pago):\n",
    "#    print(\"Voy a utilizar un lavarropas de la marca \" + marca + \" de \" + kg + \"Kg\" )\n",
    "#    print(\"voy a pagar con \" + metodo_de_pago)\n",
    "\n",
    "# marca_lavarropas(\"midas\", 6, \"efectivo\")# Llamada con argumento\n",
    "# marca_lavarropas(\"tokyo\", 16, \"tarjeta\")# Llamada con argumento"
   ]
  },
  {
   "cell_type": "code",
   "execution_count": null,
   "metadata": {},
   "outputs": [],
   "source": [
    "def vender_auto():\n",
    "    print(\"Un auto Toyota fue vendido\")\n",
    "\n",
    "# Pero si trabajamos en una concesionaria, puede que tengamos varias marcas de autos\n",
    "def vender_auto(marca): # Parámetro\n",
    "    print(\"Un auto \" + marca + \" fue vendido\")\n",
    "    print(\"Un auto \" + marca + \" salió de la concesionaria\")\n",
    "\n",
    "vender_auto(\"Toyota\") # Llamada con argumento\n",
    "vender_auto(\"Chevrolet\") # Llamada con argumento\n",
    "vender_auto(\"Ford\") # Llamada con argumento\n",
    "\n",
    "\n",
    "# ----------------------------------------------------------\n",
    "\n",
    "## Si queremos pedirle al usuario que ingrese los datos\n",
    "\n",
    "# marca_ingresada = input(\"Ingrese la marca: \")\n",
    "\n",
    "# vender_auto(marca_ingresada) # Llamada con datos ingresados\n",
    "\n",
    "\n",
    "# ----------------------------------------------------------\n",
    "\n",
    "## Podemos pasar varios parametros\n",
    "\n",
    "def vender_auto(marca, modelo):\n",
    "    print(\"Un auto \" + marca + \" \" + modelo + \" fue vendido\")\n",
    "    print(\"Un auto \" + marca + \" \" + modelo + \" salió de la concesionaria\")\n",
    "\n",
    "vender_auto(\"Toyota\", \"Corolla\")\n",
    "vender_auto(\"Chevrolet\", \"Spark\")\n",
    "vender_auto(\"Ford\", \"Fiesta\")"
   ]
  },
  {
   "cell_type": "markdown",
   "metadata": {},
   "source": [
    "# Challenge - 10 m\n",
    "\n",
    "Dada la función que acabamos de crear, definir un parametro mas sobre el lavarropas que quiere comprar y concatenar."
   ]
  },
  {
   "cell_type": "markdown",
   "metadata": {},
   "source": [
    "# Dia 2 "
   ]
  },
  {
   "cell_type": "markdown",
   "metadata": {},
   "source": [
    "## Condicionales"
   ]
  },
  {
   "cell_type": "markdown",
   "metadata": {},
   "source": [
    "### Definición - 15m\n",
    "\n",
    "Ya conocemos el flujo de python, línea por línea.\n",
    "\n",
    "Condicionar permite dividir el flujo de un programa en diferentes caminos.\n",
    "\n",
    "Las condicionales nos permiten validar una condicion en especifico para asi permitir o denegar que python ejecute una instruccion o pase a la siguente. \n",
    "\n",
    "\n",
    "\n",
    "Link interesante: https://docs.hektorprofe.net/python/controlando-el-flujo/condiciones/\n",
    "\n",
    "Vamos a ver 3:\n",
    "\n",
    "- Sentencia if (si): El if se ejecuta siempre que la expresión que comprueba devuelva True\n",
    "- Sentencia elif (sino si): Se encadena a un if u otro elif para comprobar múltiples condiciones, siempre que las anteriores no se ejecuten\n",
    "- Sentencia else (sino): Se encadena a un If para comprobar el caso contrario (en el que no se cumple la condición)\n",
    "\n",
    "\n",
    "elif not - mencionar viernes\n",
    "\n",
    "\n",
    "\n",
    "Link de la pagina: https://www.mclibre.org/consultar/python/lecciones/python-if-else.html \n",
    "\n"
   ]
  },
  {
   "cell_type": "markdown",
   "metadata": {},
   "source": [
    "# Operadores de relacion y su interpretacion \n",
    "\n",
    "< menor que \n",
    "\n",
    "\n",
    "<= menor e igual que \n",
    "\n",
    "\n",
    "> mayor que \n",
    "\n",
    "\n",
    ">=\tmayor e igual que \n",
    "\n",
    "\n",
    "== igual\n",
    "\n",
    "\n",
    "!=\tdiferente "
   ]
  },
  {
   "cell_type": "code",
   "execution_count": 12,
   "metadata": {},
   "outputs": [
    {
     "name": "stdout",
     "output_type": "stream",
     "text": [
      "Este comando no se reconoce\n"
     ]
    }
   ],
   "source": [
    "#Tomar ejemplo de las contrasenhas e ingresas al sistema. \n",
    "\n",
    "comando = \"ENTRAR\"\n",
    "\n",
    "if comando == \"ENTRAR\":\n",
    "    print(\"Bienvenido al sistema\")\n",
    "elif comando == \"SALUDAR\":\n",
    "    print(\"Hola, espero que te lo estés pasando bien aprendiendo Python\")\n",
    "elif comando == \"SALIR\":\n",
    "    print(\"Saliendo del sistema...\")\n",
    "else:\n",
    "    print(\"Este comando no se reconoce\")"
   ]
  },
  {
   "cell_type": "code",
   "execution_count": 15,
   "metadata": {},
   "outputs": [
    {
     "name": "stdout",
     "output_type": "stream",
     "text": [
      "Suficiente\n"
     ]
    }
   ],
   "source": [
    "#Programa que nos de la calificacion del bootcamp y podesmo pedir la nota al usuario que en este caso seria el profesor \n",
    "\n",
    "nota = int(input(\"Introduce una nota: \"))\n",
    "\n",
    "if nota >= 9:\n",
    "    print(\"Sobresaliente\")\n",
    "elif nota >= 7:\n",
    "    print(\"Notable\")\n",
    "elif nota >= 6:\n",
    "    print(\"Bien\")\n",
    "elif nota >= 5:\n",
    "    print(\"Suficiente\")\n",
    "else:\n",
    "    print(\"Insuficiente\")"
   ]
  },
  {
   "cell_type": "code",
   "execution_count": 16,
   "metadata": {},
   "outputs": [
    {
     "name": "stdout",
     "output_type": "stream",
     "text": [
      "Sobresaliente\n"
     ]
    }
   ],
   "source": [
    "#Hacer el mismo programa de notas dentro de una funcion llamada calcular calificaciones \n",
    "\n",
    "nota = int(input(\"Introduce una nota: \"))\n",
    "\n",
    "def calcular_calificaciones(valor_calificacion_en_numeros):\n",
    "    \n",
    "    if nota >= 9:\n",
    "        print(\"Sobresaliente\")\n",
    "    elif nota >= 7:\n",
    "        print(\"Notable\")\n",
    "    elif nota >= 6:\n",
    "        print(\"Bien\")\n",
    "    elif nota >= 5:\n",
    "        print(\"Suficiente\")\n",
    "    else:\n",
    "        print(\"Insuficiente\")\n",
    "    \n",
    "calcular_calificaciones(nota)"
   ]
  },
  {
   "cell_type": "markdown",
   "metadata": {},
   "source": [
    "# Challenge                                                                                                            \n",
    "\n",
    "Hacer un programa que pida al usuario una contrasenha numerica e imprima: bienvenido ingresaste en caso de que sea correcta, o fin del programa en caso de que la contrasenha sea incorrecta. "
   ]
  },
  {
   "cell_type": "markdown",
   "metadata": {},
   "source": [
    "# Dos condicionales a la vez: operadores logicos \n",
    "\n",
    "\n",
    "and: Verdadero sólo si los dos elementos son verdaderos\n",
    "\n",
    "or: Verdadero si cualquiera de los elementos es verdadero\n",
    "\n",
    "not: Cambia el valor de Falso a Verdadero y viceversa\n",
    "\n",
    "\n"
   ]
  },
  {
   "cell_type": "code",
   "execution_count": 4,
   "metadata": {},
   "outputs": [
    {
     "name": "stdout",
     "output_type": "stream",
     "text": [
      "Jubilado\n"
     ]
    }
   ],
   "source": [
    "edad_laboral = 70\n",
    "trabaja = False\n",
    "\n",
    "if edad_laboral < 18: \n",
    "    print('Estudiante menor de edad')\n",
    "elif edad_laboral < 65 and trabaja == True:\n",
    "    print('Activo laboralmente')\n",
    "elif edad_laboral < 65 and trabaja == False:\n",
    "    print('Estudiante')\n",
    "else:\n",
    "    print('Jubilado')"
   ]
  },
  {
   "cell_type": "code",
   "execution_count": null,
   "metadata": {},
   "outputs": [],
   "source": [
    "edad_laboral = 70\n",
    "trabaja = False\n",
    "\n",
    "if edad_laboral < 18: \n",
    "    print('Estudiante menor de edad')\n",
    "elif edad_laboral < 65 and trabaja == True: \n",
    "    print('Activo laboralmente')\n",
    "elif edad_laboral < 65 and trabaja == False:\n",
    "    print('Estudiante')\n",
    "else:\n",
    "    print('Jubilado')"
   ]
  },
  {
   "cell_type": "code",
   "execution_count": 4,
   "metadata": {},
   "outputs": [
    {
     "name": "stdout",
     "output_type": "stream",
     "text": [
      "es mayor, puede ingresar\n"
     ]
    }
   ],
   "source": [
    "#NO\n",
    "#Guardia en la puerta de un bar \n",
    "\n",
    "edad = 18\n",
    "\n",
    "if edad < 18: \n",
    "    print(\"Es menor, no puede ingresar\")\n",
    "else:\n",
    "    print(\"Es mayor, puede ingresar\")"
   ]
  },
  {
   "cell_type": "markdown",
   "metadata": {},
   "source": [
    "### Con varias condiciones - 15m\n",
    "\n",
    "Y si tenemos varias situaciones distintas, con diferentes condiciones?"
   ]
  },
  {
   "cell_type": "code",
   "execution_count": 8,
   "metadata": {},
   "outputs": [
    {
     "name": "stdout",
     "output_type": "stream",
     "text": [
      "Puede Ingresar\n"
     ]
    }
   ],
   "source": [
    "#NO\n",
    "\n",
    "edad = 30\n",
    "tiene_cedula = True\n",
    "\n",
    "if edad < 18:\n",
    "    print(\"Es menor, no puede ingresar\")\n",
    "elif not tiene_cedula:\n",
    "    print(\"Necesita presentar su cedula\")\n",
    "else:\n",
    "    print(\"Puede ingresar\")\n"
   ]
  },
  {
   "cell_type": "markdown",
   "metadata": {},
   "source": [
    "#### Empezar hoy "
   ]
  },
  {
   "cell_type": "code",
   "execution_count": null,
   "metadata": {},
   "outputs": [],
   "source": [
    "#No \n",
    "# activo laboralmente\n",
    "\n",
    "edad_laboral = 17\n",
    "\n",
    "if edad_laboral <= 18 : \n",
    "    print('Menor de edad')\n",
    "elif edad_laboral > 65:\n",
    "    print('Jubilado')\n",
    "else:\n",
    "    print('Activo laboralmente')"
   ]
  },
  {
   "cell_type": "markdown",
   "metadata": {},
   "source": [
    "### Dos condiciones a la vez"
   ]
  },
  {
   "cell_type": "code",
   "execution_count": 3,
   "metadata": {},
   "outputs": [
    {
     "name": "stdout",
     "output_type": "stream",
     "text": [
      "Jubilado\n"
     ]
    }
   ],
   "source": [
    "#NO \n",
    "\n",
    "edad_laboral = 70\n",
    "trabaja = False\n",
    "\n",
    "if edad_laboral < 18: \n",
    "    print('Estudiante menor de edad')\n",
    "elif edad_laboral < 65 and trabaja == True:\n",
    "    print('Activo laboralmente')\n",
    "elif edad_laboral < 65 and trabaja == False:\n",
    "    print('Estudiante')\n",
    "else:\n",
    "    print('Jubilado')"
   ]
  },
  {
   "cell_type": "markdown",
   "metadata": {},
   "source": [
    "### Condicionales dentro de una funcion"
   ]
  },
  {
   "cell_type": "code",
   "execution_count": null,
   "metadata": {},
   "outputs": [],
   "source": [
    "#NO\n",
    "\n",
    "def chequear_edad(edad_laboral, trabaja):\n",
    "    if edad_laboral < 18: \n",
    "        print('Estudiante menor de edad')\n",
    "    elif edad_laboral < 65 and trabaja == True:\n",
    "        print('Activo laboralmente')\n",
    "    elif edad_laboral < 65 and trabaja == False:\n",
    "        print('Estudiante')\n",
    "    else:\n",
    "        print('Jubilado')\n",
    "\n",
    "chequear_edad(70, True)"
   ]
  },
  {
   "cell_type": "markdown",
   "metadata": {},
   "source": [
    "### Challenge 🤺 - 20m\n",
    "\n",
    "Escribir un programa en el que se pregunte al usuario por una temperatura (en grados Celsius), imprima la temperatura escrita, y luego clasificar la temperatura ingresada en los siguientes niveles:\n",
    "\n",
    "Entre -10 y 18 grados, que imprima \"Fresquete\".\n",
    "Entre 19 y 30 grados, que imprima \"Calor'i\".\n",
    "Entre 31 y 45 grados, que imprima \"Hakuuuuuu\".\n",
    "Para todo lo demás, imprimir \"Ñamano mba'e!\"."
   ]
  },
  {
   "cell_type": "code",
   "execution_count": 6,
   "metadata": {},
   "outputs": [
    {
     "name": "stdout",
     "output_type": "stream",
     "text": [
      "Fresquete\n"
     ]
    }
   ],
   "source": [
    "# Solución de un/a participante \n",
    "\n",
    "def funcion(temperatura): \n",
    "    #CONDICIONALES\n",
    "    if -10 <= temperatura <= 18: \n",
    "        print( \"Fresquete\" ) \n",
    "    elif 18 < temperatura <= 30: \n",
    "        print(\"Calorcito\")  \n",
    "    elif 30 < temperatura <= 40: \n",
    "        print(\"Hakuuuu\")  \n",
    "    else: \n",
    "        print(\"Namanombata\") \n",
    "funcion(int(input()))\n"
   ]
  },
  {
   "cell_type": "code",
   "execution_count": 30,
   "metadata": {},
   "outputs": [
    {
     "name": "stdout",
     "output_type": "stream",
     "text": [
      "La temperatura es 18 grados Celsius, Fresquete\n",
      "18\n",
      "Fresquete\n"
     ]
    }
   ],
   "source": [
    "#Otra solucion \n",
    "\n",
    "# Solución de un/a participante\n",
    "\n",
    "def funcion(temperatura):\n",
    "    if -10 <= temperatura <= 18:\n",
    "        return \"Fresquete\"\n",
    "    elif 18 < temperatura <= 30:\n",
    "        return \"Calorcito\"\n",
    "    elif 30 < temperatura <= 40:\n",
    "        return \"Hakuuuu\"\n",
    "    else:\n",
    "        return \"Namanombata\"\n",
    "\n",
    "def frase():\n",
    "    temperatura = float(input(\"Ingrese la temperatura:\"))\n",
    "    print(\"La temperatura es\", round(temperatura), \"grados Celsius,\",funcion(temperatura))  \n",
    "\n",
    "frase() \n",
    "\n",
    "#Otra solucion \n",
    "\n",
    "temperatura_actual = int(input(\"Cual es la temperatura actual?\"))\n",
    "print(temperatura_actual)\n",
    "if temperatura_actual >= -10 and temperatura_actual <= 18:\n",
    "    print(\"Fresquete\")\n",
    "\n",
    "elif temperatura_actual >=19 and temperatura_actual <=30:\n",
    "    print(\"Calor`i\")\n",
    "\n",
    "elif temperatura_actual >=31 and temperatura_actual <=45:\n",
    "    print(\"Hakuuuuu\")\n",
    "\n",
    "else :\n",
    "\n",
    "    print(\"Me derritooooo\")"
   ]
  },
  {
   "cell_type": "code",
   "execution_count": 9,
   "metadata": {},
   "outputs": [
    {
     "name": "stdout",
     "output_type": "stream",
     "text": [
      "Hakuuuuu\n"
     ]
    }
   ],
   "source": [
    "#CONVERTIR LA FUNCION ANTERIOR EN UNA FUNCION PARA EVITAR, HACER TANTO CODIGO TANTAS VECES \n",
    "\n",
    "temperatura_actual = int(input(\"Cual es la temperatura actual?\"))\n",
    "#print(temperatura_actual)\n",
    "\n",
    "def funcion_saber_estado_tiempo(valor_de_la_temperatura_ingresado_por_usuario): \n",
    "\n",
    "    if temperatura_actual >= -10 and temperatura_actual <= 18:\n",
    "        print(\"Fresquete\")\n",
    "\n",
    "    elif temperatura_actual >=19 and temperatura_actual <=30:\n",
    "        print(\"Calor`i\")\n",
    "\n",
    "    elif temperatura_actual >=31 and temperatura_actual <=45:\n",
    "        print(\"Hakuuuuu\")\n",
    "\n",
    "    else :\n",
    "        print(\"Me derritooooo\")\n",
    "funcion_saber_estado_tiempo(temperatura_actual)"
   ]
  },
  {
   "cell_type": "markdown",
   "metadata": {},
   "source": [
    "### Socialización - 10m"
   ]
  },
  {
   "cell_type": "markdown",
   "metadata": {},
   "source": [
    "## Bucles condicionales - 50m"
   ]
  },
  {
   "cell_type": "code",
   "execution_count": 4,
   "metadata": {},
   "outputs": [
    {
     "name": "stdout",
     "output_type": "stream",
     "text": [
      "0\n"
     ]
    }
   ],
   "source": [
    "#NO\n",
    "\n",
    "numero = 1\n",
    "\n",
    "while numero != 0:\n",
    "    numero = int(input('Introduce un número: '))\n",
    "    print(numero)"
   ]
  },
  {
   "cell_type": "code",
   "execution_count": 31,
   "metadata": {},
   "outputs": [
    {
     "name": "stdout",
     "output_type": "stream",
     "text": [
      "1\n",
      "2\n",
      "3\n",
      "Programa terminado\n"
     ]
    }
   ],
   "source": [
    "# Mas abajo\n",
    "\n",
    "# #cuando la condicion se vuelve falsa se termina el programa, la variable de control va cambiando \n",
    "\n",
    "i = 1\n",
    "while i <= 3:\n",
    "    print(i)\n",
    "    i = i + 1\n",
    "print(\"Programa terminado\")"
   ]
  },
  {
   "cell_type": "markdown",
   "metadata": {},
   "source": [
    "### Bucles infinitos y su utilidad - 10m\n",
    "\n",
    "\n",
    "Un bucle while permite repetir la ejecución de un grupo de instrucciones mientras se cumpla una condición (es decir, mientras la condición tenga el valor True). Al momento que la condicion deje de ser cierta el bucle va parar.\n",
    "\n",
    "Pagina para explicar el bucle while https://www.mclibre.org/consultar/python/lecciones/python-while.html#:~:text=El%20bucle%20while,-Un%20bucle%20while&text=Python%20eval%C3%BAa%20la%20condici%C3%B3n%3A,mientras%20la%20condici%C3%B3n%20sea%20cierta \n",
    "\n",
    "\n",
    "\n",
    "\n",
    "Un bucle infinito sucede cuando la condicion siempre es cierta y por lo tanto el bucle no termina de ejecutarse. \"Break\" es una palabra reservada que nos permite salir de un bucle."
   ]
  },
  {
   "cell_type": "code",
   "execution_count": 5,
   "metadata": {},
   "outputs": [
    {
     "name": "stdout",
     "output_type": "stream",
     "text": [
      "El numero es correcto.\n"
     ]
    }
   ],
   "source": [
    "# explicar palabras reservadas, CASO DE LAS CONTRASENHAS DE FACEBOOK \n",
    "# escribir un programa \n",
    "\n",
    "numero = 1\n",
    "\n",
    "while True:\n",
    "    numero_ingresado = int(input(\"Introduce un numero\"))\n",
    "    if numero_ingresado == numero:\n",
    "        print(\"El numero es correcto.\")\n",
    "        break\n",
    "    else:\n",
    "        print(\"El numero es incorrecto.\")"
   ]
  },
  {
   "cell_type": "code",
   "execution_count": null,
   "metadata": {},
   "outputs": [],
   "source": [
    "#cuando la condicion se vuelve falsa se termina el programa, la variable de control va cambiando \n",
    "\n",
    "#Ejemplo excribir un programa que escriba los números del 1 al 3\n",
    "\n",
    "i = 1\n",
    "while i <= 3:\n",
    "    print(i)\n",
    "    i = i + 1\n",
    "print(\"Programa terminado\")"
   ]
  },
  {
   "cell_type": "markdown",
   "metadata": {},
   "source": [
    "### Challenge \n",
    "Escribir un programa que almacene una contraseña en una variable, y pregunte al usuario por la contraseña hasta que introduzca la contraseña correcta.\n",
    "\n",
    "Cuando el usuario ingrese la contrasena correcta, imprimir un mensaje secreto."
   ]
  },
  {
   "cell_type": "markdown",
   "metadata": {},
   "source": [
    "### Socialización - 10m"
   ]
  },
  {
   "cell_type": "markdown",
   "metadata": {},
   "source": [
    "## Listas"
   ]
  },
  {
   "cell_type": "markdown",
   "metadata": {},
   "source": [
    "### Definición - 20m\n",
    "\n",
    "Una lista es una agrupación de objetos, que pueden ser de distintos tipos de datos. Las construimos colocando los elementos entre corchetes [ ] y separados por comas."
   ]
  },
  {
   "cell_type": "code",
   "execution_count": 8,
   "metadata": {},
   "outputs": [
    {
     "name": "stdout",
     "output_type": "stream",
     "text": [
      "naranjas\n",
      "piñas\n",
      "5\n",
      "['naranjas', 'peras', 'piñas', 'kiwis', 'sandias', 'ciruelas']\n",
      "['naranjas', 'manzana', 'piñas', 'sandias', 'ciruelas']\n",
      "['naranjas', 'manzana', 'piñas', 'ciruelas']\n"
     ]
    }
   ],
   "source": [
    "lista_frutas = [\"naranjas\", \"peras\", \"piñas\", \"kiwis\", \"sandias\"]\n",
    "\n",
    "# Diferentes tipos de datos en lista\n",
    "lista_bool = [True, False, True, False]\n",
    "lista_numeros = [1.99, 2, 3, 4.5, 5]\n",
    "lista_variada = [\"peras\", 10, False]\n",
    "\n",
    "# Acceso a elementos de una lista\n",
    "# Un índice es un número entero que indica la posición de un elemento en una lista\n",
    "# El primer elemento de una lista siempre comienza en el índice 0\n",
    "# Por ejemplo, en una lista con 4 elementos, los índices de cada uno de los ítems serían 0, 1, 2 y 3\n",
    "print(lista_frutas[0])\n",
    "print(lista_frutas[2])\n",
    "\n",
    "# Contar elementos de una lista\n",
    "print(len(lista_frutas))\n",
    "\n",
    "# Añadir elemento al final de la lista\n",
    "lista_frutas.append(\"ciruelas\")\n",
    "print(lista_frutas)\n",
    "\n",
    "# Modificar elementos \n",
    "lista_frutas[1] = \"manzana\"\n",
    "\n",
    "# Eliminar elemento específico por valor\n",
    "lista_frutas.remove(\"kiwis\")\n",
    "print(lista_frutas)\n",
    "\n",
    "# Eliminar elemento específico por posición\n",
    "lista_frutas.pop(3)\n",
    "print(lista_frutas)"
   ]
  },
  {
   "cell_type": "markdown",
   "metadata": {},
   "source": [
    "### Dinámica de listas - 10m\n",
    "\n",
    "Con las sillas"
   ]
  },
  {
   "cell_type": "markdown",
   "metadata": {},
   "source": [
    "### Challenge 🤺 - 20m\n",
    "\n",
    "Crear una lista de 5 elementos. Luego, seguir los siguientes pasos.\n",
    "\n",
    "- Agregar un elemento al final de la lista.\n",
    "\n",
    "- Modificar el segundo elemento.\n",
    "\n",
    "- Eliminar el tercer elemento."
   ]
  },
  {
   "cell_type": "markdown",
   "metadata": {},
   "source": [
    "### Socialización - 10m"
   ]
  },
  {
   "cell_type": "markdown",
   "metadata": {},
   "source": [
    "## Bucles iterativos (for) 1h 20m"
   ]
  },
  {
   "cell_type": "markdown",
   "metadata": {},
   "source": [
    "### Definición - 15m\n",
    "\n",
    "Cuando queremos repetir una acción una cierta cantidad de veces, podemos utilizar un bucle iterativo.\n",
    "\n",
    "Iteraciones: una acción repetida una cierta cantidad de veces, pero en cada repetición se tiene en cuenta el valor anterior.\n",
    "\n",
    "Bucle iterativo for: https://j2logo.com/bucle-for-en-python/\n",
    "\n",
    "\n",
    "El bucle for se utiliza para recorrer los elementos de un objeto iterable (lista, tupla, conjunto, diccionario, …) y ejecutar un bloque de código. En cada paso de la iteración se tiene en cuenta a un único elemento del objeto iterable, sobre el cuál se pueden aplicar una serie de operaciones.\n",
    "\n",
    "\n",
    "\n",
    "Para eso podríamos usar un generador de iterables llamado \"range\", de la siguiente forma:\n",
    "\n"
   ]
  },
  {
   "cell_type": "code",
   "execution_count": null,
   "metadata": {},
   "outputs": [],
   "source": [
    "# imprimir \"Hola. Buen dia\" 5 veces\n",
    "\n",
    "\n",
    "\n",
    "for i in range(5):\n",
    "    print(\"Hola. Buen dia\")\n",
    "\n",
    "# También podrimos imprimir los numeros del rango que definimos\n",
    "for iterador in range(5):\n",
    "    print(iterador)\n",
    "   "
   ]
  },
  {
   "cell_type": "markdown",
   "metadata": {},
   "source": [
    "### Challenge \n",
    "\n",
    "Escribir un programa que itere en un rango de 10 veces. Por cada iteracion multiplicar el iterador por dos e imprimir el resultado."
   ]
  },
  {
   "cell_type": "code",
   "execution_count": null,
   "metadata": {},
   "outputs": [],
   "source": [
    "for numero in range(10):\n",
    "    multiplicacion = numero * 2\n",
    "    print(multiplicacion)"
   ]
  },
  {
   "cell_type": "markdown",
   "metadata": {},
   "source": [
    "También podríamos querer realizar una acción utilizando cada valor de una lista.\n",
    "\n",
    "Gracias a que las listas también son datos iterables.\n",
    "\n",
    "Por ejemplo, si queremos mostrar todas las marcas que tenemos en nuestra tienda, podemos hacer esto:"
   ]
  },
  {
   "cell_type": "code",
   "execution_count": null,
   "metadata": {},
   "outputs": [],
   "source": [
    "lista_marcas = [\"chanel\", \"nike\", \"dior\", \"adidas\"]\n",
    "\n",
    "for marca in lista_marcas: # por cada marca en la lista de marcas\n",
    "    print(marca) # imprime cada marca"
   ]
  },
  {
   "cell_type": "markdown",
   "metadata": {},
   "source": [
    "### Recorrer strings - 10m\n",
    "\n",
    "Los strings también son datos iterables.\n",
    "Ejemplo:"
   ]
  },
  {
   "cell_type": "code",
   "execution_count": null,
   "metadata": {},
   "outputs": [],
   "source": [
    "for letra in \"Gato\":\n",
    "    print(letra)"
   ]
  },
  {
   "cell_type": "markdown",
   "metadata": {},
   "source": [
    "### Challenge 🤺 - 20m\n",
    "\n",
    "Escribir un programa en el que se pregunte al usuario por una frase y una letra, y muestre por pantalla el número de veces que aparece la letra en la frase.\n",
    "\n",
    "- Pedir al usuario una frase (input)\n",
    "\n",
    "- Guardar la frase ingresada en una variable\n",
    "\n",
    "- Pedir al usuario una letra\n",
    "\n",
    "- Iterar (en?) la frase letra por letra para encontrar la letra buscada\n",
    "\n",
    "- Contar cuantas veces aparece la letra en la frase\n",
    "\n",
    "- Imprimir el total\n",
    "\n"
   ]
  },
  {
   "cell_type": "code",
   "execution_count": 11,
   "metadata": {},
   "outputs": [
    {
     "name": "stdout",
     "output_type": "stream",
     "text": [
      "la frase es buenos dias familia\n",
      "La cantidad de veces que aparece la letra es 3\n"
     ]
    }
   ],
   "source": [
    "frase = input(\"ingresa una frase\")\n",
    "letra = input(\"Ingresa una letra\")\n",
    "contador = 0\n",
    "for iterador in frase:\n",
    "    if letra == iterador:\n",
    "        contador = contador + 1\n",
    "contador = str(contador)\n",
    "print(\"la frase es\", frase)\n",
    "print(\"La cantidad de veces que aparece la letra es \" + contador)"
   ]
  },
  {
   "cell_type": "markdown",
   "metadata": {},
   "source": [
    "### Socialización - 10m"
   ]
  },
  {
   "cell_type": "markdown",
   "metadata": {},
   "source": [
    "# Repaso y proyecto (Wordle) 40m"
   ]
  },
  {
   "cell_type": "markdown",
   "metadata": {},
   "source": [
    "### Presentación del proyecto - 15m\n",
    "Vamos al sitio web de wordle https://lapalabradeldia.com/  #Palabra del dia INDIA\n",
    "\n",
    "Requerimientos\n",
    "\n",
    "Necesitamos lo siguiente:\n",
    "\n",
    "    - Variables\n",
    "    - Tipos de datos\n",
    "    - Concatenación\n",
    "    - Operadores lógicos\n",
    "    - Condicionales (control de flujo)\n",
    "    - Funciones (propias & built-in)\n",
    "    - Bucles"
   ]
  },
  {
   "cell_type": "markdown",
   "metadata": {},
   "source": [
    "### Variables - 5m"
   ]
  },
  {
   "cell_type": "code",
   "execution_count": 13,
   "metadata": {},
   "outputs": [],
   "source": [
    "palabra = \"calor\" # strings (str)\n",
    "letra1 = \"a\" # strings (str)\n",
    "letra2 = \"r\" # strings (str)"
   ]
  },
  {
   "cell_type": "markdown",
   "metadata": {},
   "source": [
    "### Tipos de datos - 5m"
   ]
  },
  {
   "cell_type": "code",
   "execution_count": 14,
   "metadata": {},
   "outputs": [],
   "source": [
    "sol_es_naranja = False # boolean (bool)\n",
    "sol_es_blanco = True # boolean (bool)\n",
    "cantidad_de_participantes = 50 # integer (int)\n",
    "numeros = [1,2,3,4,5] # list (list)"
   ]
  },
  {
   "cell_type": "markdown",
   "metadata": {},
   "source": [
    "### Concatenación - 5m"
   ]
  },
  {
   "cell_type": "code",
   "execution_count": 17,
   "metadata": {},
   "outputs": [],
   "source": [
    "# Genera: \"La palabra ingresada es calor\"\n",
    "#mensaje1 = \"La palabra ingresada es \" + palabra\n",
    "\n",
    "# Genera: \"La cantidad de nuevos pinguinos hoy es 50\"\n",
    "# mensaje2 = f\"La cantidad de nuevos pinguinos hoy es {cantidad_de_participantes}\"\n",
    "# print(mensaje2) \n",
    "\n",
    "# Genera: \"La cantidad de nuevos pinguinos hoy es 50\"\n",
    "# mensaje3 = \"La cantidad de nuevos pinguinos hoy es\", cantidad_de_participantes"
   ]
  },
  {
   "cell_type": "markdown",
   "metadata": {},
   "source": [
    "### Operadores lógicos - 5m"
   ]
  },
  {
   "cell_type": "code",
   "execution_count": 15,
   "metadata": {},
   "outputs": [
    {
     "name": "stdout",
     "output_type": "stream",
     "text": [
      "False\n",
      "True\n"
     ]
    }
   ],
   "source": [
    "# ==, !=, >, <, >=, <=, and, or, not\n",
    "letras_son_iguales = letra1 == letra2 # Devuelve: True o False\n",
    "print(letras_son_iguales)\n",
    "\n",
    "# in\n",
    "letra_existe_en_la_palabra = letra1 in palabra # Devuelve: True o False\n",
    "print(letra_existe_en_la_palabra)"
   ]
  },
  {
   "cell_type": "markdown",
   "metadata": {},
   "source": [
    "### Condicionales (control de flujo) - 5m"
   ]
  },
  {
   "cell_type": "code",
   "execution_count": 16,
   "metadata": {},
   "outputs": [
    {
     "name": "stdout",
     "output_type": "stream",
     "text": [
      "La letra existe en la palabra.\n"
     ]
    }
   ],
   "source": [
    "# if True:\n",
    "#     print(\"Verdadero\")\n",
    "\n",
    "if letra_existe_en_la_palabra:\n",
    "    print(\"La letra existe en la palabra.\")\n",
    "else:\n",
    "    print(\"Las palabras no coinciden. Cambiar la palabra ingresada.\")"
   ]
  }
 ],
 "metadata": {
  "kernelspec": {
   "display_name": "Python 3.10.4 64-bit",
   "language": "python",
   "name": "python3"
  },
  "language_info": {
   "codemirror_mode": {
    "name": "ipython",
    "version": 3
   },
   "file_extension": ".py",
   "mimetype": "text/x-python",
   "name": "python",
   "nbconvert_exporter": "python",
   "pygments_lexer": "ipython3",
   "version": "3.10.4"
  },
  "orig_nbformat": 4,
  "vscode": {
   "interpreter": {
    "hash": "aee8b7b246df8f9039afb4144a1f6fd8d2ca17a180786b69acc140d282b71a49"
   }
  }
 },
 "nbformat": 4,
 "nbformat_minor": 2
}
