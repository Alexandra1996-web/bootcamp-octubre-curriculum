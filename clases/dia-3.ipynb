{
 "cells": [
  {
   "cell_type": "markdown",
   "metadata": {},
   "source": [
    "# Repaso y proyecto (Wordle) - 5h 30m"
   ]
  },
  {
   "cell_type": "markdown",
   "metadata": {},
   "source": [
    "# Funciones - 3h 30m"
   ]
  },
  {
   "cell_type": "markdown",
   "metadata": {},
   "source": [
    "## Funciones - 10m"
   ]
  },
  {
   "cell_type": "code",
   "execution_count": 47,
   "metadata": {},
   "outputs": [
    {
     "name": "stdout",
     "output_type": "stream",
     "text": [
      "Hello Mundo\n"
     ]
    }
   ],
   "source": [
    "def imprimir_saludo():\n",
    "    return print(\"Hello Mundo\")\n",
    "imprimir_saludo()"
   ]
  },
  {
   "cell_type": "code",
   "execution_count": 40,
   "metadata": {},
   "outputs": [
    {
     "data": {
      "text/plain": [
       "'Hola mundo'"
      ]
     },
     "execution_count": 40,
     "metadata": {},
     "output_type": "execute_result"
    }
   ],
   "source": [
    "def imprimir_saludo():\n",
    "    return \"Hola mundo\"\n",
    "imprimir_saludo()"
   ]
  },
  {
   "cell_type": "markdown",
   "metadata": {},
   "source": [
    "# Funciones con return \n",
    "\n",
    "✍🏻 Es una palabra reservada que se utiliza para terminar o \"cortar\" con la ejecucion de una funcion o bloque de codigo. \n",
    "\n",
    "✍🏻 Un statement(sentencia) que comienza con return especifica el valor que debe retornar dicha funcion o bloque de codigo \n",
    "\n",
    "✍🏻 En otras palabras en una funcion suma sirve para que la funcion, a parte de hacer un calculo, retorne ese calculo, podemos utilizar retornar o devolver como palabras al hablar de return \n",
    "\n"
   ]
  },
  {
   "cell_type": "markdown",
   "metadata": {},
   "source": [
    "### return\n",
    "✅ return cambia el flujo del programa y realiza cambios en el código\n",
    "\n",
    "\n",
    "✅ lo que return devuelve/retorna/entrega puede ser utilizado en otra sección del código\n",
    "\n",
    "\n",
    "✅ lo que return devuelve/retorna/entrega puede ser almacenado en variables\n",
    "\n",
    "\n",
    "✅ return POR SÍ SOLO no muestra valores en pantalla\n",
    "\n",
    "### print()\n",
    "✅ print() no cambia el flujo del programa ni realiza cambios en el código\n",
    "\n",
    "\n",
    "✅ print() solo muestra valores en la pantalla\n",
    "\n",
    "\n",
    "✅ print() no devuelve un valor reutilizable"
   ]
  },
  {
   "cell_type": "code",
   "execution_count": null,
   "metadata": {},
   "outputs": [],
   "source": [
    "def calcular_total_compra(precio1, precio2):\n",
    "    # realiza una accion\n",
    "    total_compra = precio1 + precio2\n",
    "    return total_compra     # retorna/devuelve un dato"
   ]
  },
  {
   "cell_type": "markdown",
   "metadata": {},
   "source": [
    "## Challenge 1 🤺 - 15m\n",
    "\n",
    "Crear una función que imprima la variable palabra."
   ]
  },
  {
   "cell_type": "code",
   "execution_count": 6,
   "metadata": {},
   "outputs": [
    {
     "name": "stdout",
     "output_type": "stream",
     "text": [
      "bienvenido\n"
     ]
    }
   ],
   "source": [
    "def imprimir_palabra():\n",
    "    palabra_a_imprimir = input(\"Ingresar una palabra: \")\n",
    "    print(palabra_a_imprimir)\n",
    "\n",
    "imprimir_palabra()"
   ]
  },
  {
   "cell_type": "markdown",
   "metadata": {},
   "source": [
    "## Socialización - 10m"
   ]
  },
  {
   "cell_type": "markdown",
   "metadata": {},
   "source": [
    "## Funciones: parámetros y argumentos - 15m"
   ]
  },
  {
   "cell_type": "code",
   "execution_count": 23,
   "metadata": {},
   "outputs": [
    {
     "name": "stdout",
     "output_type": "stream",
     "text": [
      "calor\n"
     ]
    }
   ],
   "source": [
    "palabra_ejemplo = \"calor\"\n",
    "\n",
    "# La variable que se crea a partir del valor que se pasa a la función entre los paréntesis\n",
    "def cambiar_la_palabra_ejemplo(nueva_palabra):\n",
    "    #global palabra_ejemplo \n",
    "    palabra_ejemplo = nueva_palabra\n",
    "\n",
    "cambiar_la_palabra_ejemplo(\"salud\")\n",
    "\n",
    "print(palabra_ejemplo) # Revisamos si se cambió"
   ]
  },
  {
   "cell_type": "code",
   "execution_count": 3,
   "metadata": {},
   "outputs": [
    {
     "name": "stdout",
     "output_type": "stream",
     "text": [
      "1186\n"
     ]
    }
   ],
   "source": [
    "#Ejemplo de parametros y argumentos y la suma \n",
    "\n",
    "def sumar_numeros(numero1, numero2):\n",
    "    sumar = numero1 + numero2\n",
    "    print(sumar)\n",
    "\n",
    "sumar_numeros(200,986)"
   ]
  },
  {
   "cell_type": "code",
   "execution_count": 28,
   "metadata": {},
   "outputs": [
    {
     "name": "stdout",
     "output_type": "stream",
     "text": [
      "Las letras son iguales.\n"
     ]
    }
   ],
   "source": [
    "#Como en el programa tenemos que poder comparar dos letras\n",
    "\n",
    "#Ejemplo comparar dos letras, e imprimir si son iguales o diferentes \n",
    "\n",
    "letra1 = \"a\"\n",
    "letra2 = \"a\"\n",
    "    \n",
    "if letra1 == letra2:\n",
    "    print(\"Las letras son iguales.\")\n",
    "\n",
    "else:\n",
    "    print(\"Las letras son diferentes.\")"
   ]
  },
  {
   "cell_type": "markdown",
   "metadata": {},
   "source": [
    "## Challenge - 15 minutos\n",
    "Crear una función que reciba dos letras (parámetros) y que verifique si son iguales:\n",
    "\n",
    "1. Si son iguales, imprimir \"Las letras son iguales\".\n",
    "\n",
    "2. De lo contrario, imprimir \"Las letras son diferentes\"."
   ]
  },
  {
   "cell_type": "code",
   "execution_count": 7,
   "metadata": {},
   "outputs": [
    {
     "name": "stdout",
     "output_type": "stream",
     "text": [
      "Las letras son iguales.\n",
      "Las letras son diferentes.\n"
     ]
    }
   ],
   "source": [
    "def comparar(x,y):\n",
    "    if x == y:\n",
    "     print(\"Las letras son iguales.\")\n",
    "    else:\n",
    "        print(\"Las letras son diferentes.\")\n",
    "\n",
    "comparar(\"A\",\"A\")\n",
    "comparar(\"b\",\"c\")"
   ]
  },
  {
   "cell_type": "code",
   "execution_count": 34,
   "metadata": {},
   "outputs": [
    {
     "name": "stdout",
     "output_type": "stream",
     "text": [
      "Las letras son iguales.\n"
     ]
    },
    {
     "data": {
      "text/plain": [
       "('A', 'A')"
      ]
     },
     "execution_count": 34,
     "metadata": {},
     "output_type": "execute_result"
    }
   ],
   "source": [
    "def comparar(x,y):\n",
    "    if x == y:\n",
    "        print(\"Las letras son iguales.\")\n",
    "        return True\n",
    "        #return x,y \n",
    "        \n",
    "    else:\n",
    "        print(\"Las letras son diferentes.\")\n",
    "        return False\n",
    "\n",
    "comparar(\"A\",\"A\")\n",
    "#comparar(\"b\",\"c\")"
   ]
  },
  {
   "cell_type": "markdown",
   "metadata": {},
   "source": [
    "## Socialización - 10m"
   ]
  },
  {
   "cell_type": "markdown",
   "metadata": {},
   "source": [
    "## Funciones: `return` - 30m"
   ]
  },
  {
   "cell_type": "markdown",
   "metadata": {},
   "source": [
    "# Return \n",
    "\n",
    "Una función siempre devuelve un valor. La función utiliza la palabra clave return para devolver un valor; si no desea devolver ningún valor, se devolverá el valor predeterminado None . El nombre de la función se usa para llamar a la función, pasando los parámetros necesarios entre paréntesis.\n",
    "\n",
    "La instrucción return indica el final de la función pero también el valor que devuelve la función."
   ]
  },
  {
   "cell_type": "code",
   "execution_count": 2,
   "metadata": {},
   "outputs": [
    {
     "name": "stdout",
     "output_type": "stream",
     "text": [
      "Las palabras son diferentes\n"
     ]
    }
   ],
   "source": [
    "def verificar_si_las_palabras_coinciden(palabra_a_encontrar, palabra_ingresada):\n",
    "    palabras_son_iguales = palabra_a_encontrar == palabra_ingresada\n",
    "    if palabras_son_iguales:\n",
    "        return 'Las palabras son iguales'\n",
    "        # return 'Sí'\n",
    "        # return True\n",
    "    else:\n",
    "        return 'Las palabras son diferentes'\n",
    "        # return 'No'\n",
    "        # return False\n",
    "\n",
    "    # return palabras_son_iguales\n",
    "\n",
    "# Revisamos si las palabras coinciden y guardamos el resultado en una variable\n",
    "palabras_coinciden = verificar_si_las_palabras_coinciden(\"perro\", \"gato\")\n",
    "\n",
    "print(palabras_coinciden)\n",
    "\n",
    "# Ejemplo de len() para el return"
   ]
  },
  {
   "cell_type": "code",
   "execution_count": null,
   "metadata": {},
   "outputs": [],
   "source": [
    "def verificar_si_las_palabras_coinciden(palabra_a_encontrar, palabra_ingresada):\n",
    "    palabras_son_iguales = palabra_a_encontrar == palabra_ingresada\n",
    "    if palabras_son_iguales:\n",
    "        return 'Las palabras son iguales'\n",
    "        # return 'Sí'\n",
    "        # return True\n",
    "    else:\n",
    "        return 'Las palabras son diferentes'\n",
    "        # return 'No'\n",
    "        # return False\n",
    "\n",
    "    # return palabras_son_iguales\n",
    "\n",
    "# Revisamos si las palabras coinciden y guardamos el resultado en una variable\n",
    "palabras_coinciden = verificar_si_las_palabras_coinciden(\"perro\", \"gato\")\n",
    "\n",
    "print(palabras_coinciden)\n",
    "\n",
    "# Ejemplo de len() para el return"
   ]
  },
  {
   "cell_type": "markdown",
   "metadata": {},
   "source": [
    "## Challenge \n",
    "\n",
    "Crear una función que reciba dos parámetros (una palabra y un número), y que devuelva `True` si el número es igual a la cantidad de letras de la palabra. En caso contrario, que devuelva `False`.\n",
    "\n",
    "Pista: `cantidad de letras de una palabra en python`"
   ]
  },
  {
   "cell_type": "code",
   "execution_count": 11,
   "metadata": {},
   "outputs": [
    {
     "data": {
      "text/plain": [
       "False"
      ]
     },
     "execution_count": 11,
     "metadata": {},
     "output_type": "execute_result"
    }
   ],
   "source": [
    "def devuelve_el_numero_de_letras(palabra, numero):\n",
    "        cantidad_de_letras = len(palabra)\n",
    "\n",
    "        cantidad_de_letras_es_igual_al_numero = cantidad_de_letras == numero\n",
    "        if cantidad_de_letras_es_igual_al_numero:\n",
    "            return True\n",
    "        else:\n",
    "            return False\n",
    "\n",
    "# palabra_ingresada = input(\"ingrese_una_palabra\")\n",
    "\n",
    "devuelve_el_numero_de_letras(\"pera\", 5)"
   ]
  },
  {
   "cell_type": "markdown",
   "metadata": {},
   "source": [
    "## Socialización - 10m"
   ]
  },
  {
   "cell_type": "markdown",
   "metadata": {},
   "source": [
    "## Challenge \n",
    "\n",
    "Crear función que revise si una palabra contiene una letra. En caso de que la contenga, retornar la letra entre corchetes `[]`. De lo contrario, retornar solo la letra. "
   ]
  },
  {
   "cell_type": "code",
   "execution_count": 51,
   "metadata": {},
   "outputs": [
    {
     "name": "stdout",
     "output_type": "stream",
     "text": [
      "[a]\n"
     ]
    }
   ],
   "source": [
    "##funcion comparadora que recibe dos parametros (string len=1,str) \n",
    "def contiene_una_letra(letra,palabra):\n",
    "    condicion_que_contenga=letra in palabra\n",
    "    if condicion_que_contenga:\n",
    "        contiene=\"[\"+letra+\"]\"\n",
    "        return contiene\n",
    "    else:\n",
    "        no_contiene=letra\n",
    "        return no_contiene\n",
    "\n",
    "print(contiene_una_letra(\"a\",\"hola\"))"
   ]
  },
  {
   "cell_type": "code",
   "execution_count": 59,
   "metadata": {},
   "outputs": [
    {
     "name": "stdout",
     "output_type": "stream",
     "text": [
      "[' ', 'a', ' ']\n"
     ]
    }
   ],
   "source": [
    "##funcion comparadora que recibe dos parametros (string len=1,str) \n",
    "def contiene_una_letra(letra,palabra):\n",
    "    condicion_que_contenga=letra in palabra\n",
    "    if condicion_que_contenga:\n",
    "        contiene=\"[\"+letra+\"]\"\n",
    "        return contiene\n",
    "    else:\n",
    "        no_contiene=letra\n",
    "        return no_contiene\n",
    "\n",
    "print(contiene_una_letra(\"a\",\"hola\"))\n"
   ]
  },
  {
   "cell_type": "markdown",
   "metadata": {},
   "source": [
    "## Socialización - 10m"
   ]
  },
  {
   "cell_type": "markdown",
   "metadata": {},
   "source": [
    "## Funciones built-in `input()` - 10m"
   ]
  },
  {
   "cell_type": "code",
   "execution_count": 2,
   "metadata": {},
   "outputs": [
    {
     "name": "stdout",
     "output_type": "stream",
     "text": [
      "hola\n",
      "hilo\n"
     ]
    }
   ],
   "source": [
    "''' palabra_a_encontrar = input(\"Ingrese una palabra: \")\n",
    "print(palabra_a_encontrar)\n",
    "\n",
    "palabra_ingresada = input(\"Ingrese otra palabra\")\n",
    "print(palabra_ingresada) ''' "
   ]
  },
  {
   "cell_type": "markdown",
   "metadata": {},
   "source": [
    "## Funciones built-in: `list()` - 10m"
   ]
  },
  {
   "cell_type": "code",
   "execution_count": 54,
   "metadata": {},
   "outputs": [
    {
     "name": "stdout",
     "output_type": "stream",
     "text": [
      "['A', 'l', 'e', 'x', 'a', 'n', 'd', 'r', 'a']\n"
     ]
    }
   ],
   "source": [
    "# Convertimos la palabra a encontrar en una lista\n",
    "#print(list(\"hombre\"))\n",
    "\n",
    "\n",
    "#Crear una lista sintaxis \n",
    "#Usar append a palabras ingresadas \n",
    "\n",
    "palabra_a_encontrar = \"Alexandra\"\n",
    "lista_de_letras_de_la_palabra_a_encontrar = list(palabra_a_encontrar)\n",
    "print(lista_de_letras_de_la_palabra_a_encontrar)\n",
    "\n",
    "#lista_de_letras_de_la_palabra_ingresada = list(palabra_ingresada)\n",
    "#print(lista_de_letras_de_la_palabra_ingresada)\n",
    "\n",
    "#"
   ]
  },
  {
   "cell_type": "markdown",
   "metadata": {},
   "source": [
    "## Challenge 5 🤺 - 20m\n",
    "\n",
    "Pedir al usuario que ingrese 1 palabra, luego convertir esa palabra a una lista con sus caracteres con `list()`. Agregar esa lista de caracteres a una lista llamada `palabras_ingresadas`. Repetir el proceso 3 veces. Cada vez que se agregue una lista de caracteres, imprimir la lista `palabras_ingresadas`.\n",
    "\n",
    "\n",
    "Ejemplo del resultado esperado:\n",
    "\n",
    "```[['c', 'i', 'e', 'l', 'o']]``` # Al ingresar la primera palabra\n",
    "\n",
    "```[['c', 'i', 'e', 'l', 'o'], ['c', 'a', 'l', 'o', 'r']]``` # Al ingresar la segunda palabra\n",
    "\n",
    "```[['c', 'i', 'e', 'l', 'o'], ['c', 'a', 'l', 'o', 'r'], ['n', 'u', 'b', 'e', 's']]``` # Al ingresar la tercera palabra"
   ]
  },
  {
   "cell_type": "code",
   "execution_count": 1,
   "metadata": {},
   "outputs": [
    {
     "name": "stdout",
     "output_type": "stream",
     "text": [
      "[['p', 'e', 'n', 'e']]\n",
      "[['p', 'e', 'n', 'e'], ['p', 'e', 'n', 'e']]\n",
      "[['p', 'e', 'n', 'e'], ['p', 'e', 'n', 'e'], ['p', 'e', 'n', 'e']]\n"
     ]
    }
   ],
   "source": [
    "palabras_ingresadas = []\n",
    "\n",
    "palabra1 = input('Ingresa una palabra')\n",
    "palabra1 = list(palabra1)\n",
    "palabras_ingresadas.append(palabra1)\n",
    "print(palabras_ingresadas)\n",
    "\n",
    "palabra2 = input('Ingresa una palabra')\n",
    "palabra2 = list(palabra2)\n",
    "palabras_ingresadas.append(palabra2)\n",
    "print(palabras_ingresadas)\n",
    "\n",
    "palabra3 = input('Ingresa una palabra')\n",
    "palabra3 = list(palabra3)\n",
    "palabras_ingresadas.append(palabra3)\n",
    "print(palabras_ingresadas)"
   ]
  },
  {
   "cell_type": "markdown",
   "metadata": {},
   "source": [
    "## Socialización - 10m"
   ]
  },
  {
   "cell_type": "markdown",
   "metadata": {},
   "source": [
    "# Bucles (for) - 1h 10m"
   ]
  },
  {
   "cell_type": "markdown",
   "metadata": {},
   "source": [
    "## Función verificadora - 30m"
   ]
  },
  {
   "cell_type": "markdown",
   "metadata": {},
   "source": [
    "Acercandonos un poco más a nuestro juego, vamos a ver cual es el proceso cada vez que se ingresa una palabra\n",
    "\n",
    "- Crear una lista vacía `letras_verificadas` para las letras de la palabra luego de ser verificada\n",
    "- Definir la cantidad de letras de la palabra a encontrar\n",
    "- Si las letras existen en la palabra a encontrar y sus posiciones coinciden: encerrar en corchetes `[]` y agregar al resultado\n",
    "- Si las letras existen en la palabra a encontrar pero sus posiciones no coinciden: encerrar en parentesis `()` y agregar al resultado\n",
    "- Si no se cumple ninguna de las anteriores, agregar la letra a la lista vacía sin modificaciones\n",
    "- Retornar el resultado"
   ]
  },
  {
   "cell_type": "code",
   "execution_count": 15,
   "metadata": {},
   "outputs": [],
   "source": [
    "def obtener_fila_verificada(palabra_a_encontrar, palabra_ingresada):\n",
    "    cantidad_de_letras_de_palabra_a_encontrar = 5\n",
    "\n",
    "    # Creamos una lista vacía para almacenar el resultado de una linea\n",
    "    letras_verificadas = []\n",
    "    # Iteramos por cada letra de la palabra ingresada\n",
    "    for posicion in range(cantidad_de_letras_de_palabra_a_encontrar):\n",
    "\n",
    "        las_letras_son_iguales = palabra_a_encontrar[posicion] == palabra_ingresada[posicion]\n",
    "\n",
    "        la_letra_existe_en_la_palabra = palabra_ingresada[posicion] in palabra_a_encontrar\n",
    "\n",
    "        if las_letras_son_iguales:\n",
    "            # Guardar las letras que estan en la palabra a encontrar y coinciden en la posicion dentro de corchetes\n",
    "            letras_verificadas.append(\"[\"+palabra_ingresada[posicion]+\"]\")\n",
    "        elif la_letra_existe_en_la_palabra:\n",
    "            # Guardar las letras que no coinciden pero que estan en la palabra a encontrar dentro de parentesis\n",
    "            letras_verificadas.append(\"(\"+palabra_ingresada[posicion]+\")\")\n",
    "        else:\n",
    "            letras_verificadas.append(palabra_ingresada[posicion])\n",
    "    return letras_verificadas"
   ]
  },
  {
   "cell_type": "markdown",
   "metadata": {},
   "source": [
    "## Probamos nuestra función (y rezamos para que funcione) - 10m"
   ]
  },
  {
   "cell_type": "code",
   "execution_count": 4,
   "metadata": {},
   "outputs": [
    {
     "name": "stdout",
     "output_type": "stream",
     "text": [
      "audio\n",
      "calor\n",
      "['c', '(a)', 'l', '(o)', 'r']\n"
     ]
    }
   ],
   "source": [
    "# Usamos nuestras variables de los bloques de más arriba\n",
    "\n",
    "palabra_a_encontrar = input(\"Ingrese una palabra: \")\n",
    "print(palabra_a_encontrar)\n",
    "\n",
    "palabra_ingresada = input(\"Ingrese otra palabra\")\n",
    "print(palabra_ingresada)\n",
    "\n",
    "# Convertimos la palabra a encontrar en una lista\n",
    "# lista_de_letras_de_la_palabra_a_encontrar = list(palabra_a_encontrar)\n",
    "# print(lista_de_letras_de_la_palabra_a_encontrar)\n",
    "\n",
    "# lista_de_letras_de_la_palabra_ingresada = list(palabra_ingresada)\n",
    "# print(lista_de_letras_de_la_palabra_ingresada)\n",
    "\n",
    "linea_verificada = obtener_fila_verificada(palabra_a_encontrar,palabra_ingresada)\n",
    "\n",
    "print(linea_verificada)"
   ]
  },
  {
   "cell_type": "markdown",
   "metadata": {},
   "source": [
    "## Challenge 6 🤺 - 20m\n",
    "\n",
    "Dada la lista de ejemplo: \n",
    "\n",
    "lista = [['h', 'o', 'l', 'i', 's'], ['h', 'e', 'l', 'l', 'o'], ['h', 'a', 'l', 'l', 'o']]\n",
    "\n",
    "Crear una función que imprima una grilla (lista de listas), una línea por cada lista dentro de la lista principal.\n",
    "\n",
    "Ejemplo del resultado esperado:\n",
    "\n",
    "```\n",
    "['h', 'o', 'l', 'i', 's']\n",
    "['h', 'e', 'l', 'l', 'o']\n",
    "['h', 'a', 'l', 'l', 'o']\n",
    "```"
   ]
  },
  {
   "cell_type": "code",
   "execution_count": 16,
   "metadata": {},
   "outputs": [
    {
     "name": "stdout",
     "output_type": "stream",
     "text": [
      "['c', 'o', 'l', 'o', 'r']\n",
      "['s', 'a', 'l', 'u', 'd']\n",
      "['c', 'o', 's', 't', 'a']\n",
      "['c', 'e', 'n', 'a', 'r']\n",
      "['c', 'o', 'm', 'e', 'r']\n"
     ]
    }
   ],
   "source": [
    "lista = [[\"c\", \"o\", \"l\", \"o\", \"r\"], [\"s\", \"a\", \"l\", \"u\", \"d\"], [\"c\", \"o\", \"s\", \"t\", \"a\"], [\"c\", \"e\", \"n\", \"a\", \"r\"], [\"c\", \"o\", \"m\", \"e\", \"r\"]]\n",
    "\n",
    "def imprecion_de_lista (listado):\n",
    "    for cada_letra in listado:\n",
    "        print (cada_letra)\n",
    "\n",
    "imprecion_de_lista (lista)"
   ]
  },
  {
   "cell_type": "markdown",
   "metadata": {},
   "source": [
    "## Socialización - 10m"
   ]
  },
  {
   "cell_type": "markdown",
   "metadata": {},
   "source": [
    "# Bucles (while) - 20m"
   ]
  },
  {
   "cell_type": "markdown",
   "metadata": {},
   "source": [
    "# Ejemplo While\n",
    "\n",
    "Crear un bucle en el que se le pida al usuario ingresar una palabra e imprimirla, hasta que se le acaben los intentos (6).\n"
   ]
  },
  {
   "cell_type": "code",
   "execution_count": 17,
   "metadata": {},
   "outputs": [
    {
     "name": "stdout",
     "output_type": "stream",
     "text": [
      "te quedan 6 intentos\n",
      "te quedan 5 intentos\n",
      "te quedan 4 intentos\n",
      "te quedan 3 intentos\n",
      "te quedan 2 intentos\n",
      "te quedan 1 intentos\n"
     ]
    }
   ],
   "source": [
    "intentos = 6\n",
    "while intentos > 0:\n",
    "    print(\"te quedan \" + str(intentos) + \" intentos\")\n",
    "    palabra_ingresada = input(\"Ingresa una palabra\")\n",
    "    intentos = intentos - 1"
   ]
  },
  {
   "cell_type": "markdown",
   "metadata": {},
   "source": [
    "# ¿Y si unimos todo? 💥💥💥💥💥💥💥 - 1h"
   ]
  },
  {
   "cell_type": "code",
   "execution_count": null,
   "metadata": {},
   "outputs": [],
   "source": [
    "# Ver el archivo wordle.py"
   ]
  },
  {
   "cell_type": "code",
   "execution_count": 21,
   "metadata": {},
   "outputs": [
    {
     "name": "stdout",
     "output_type": "stream",
     "text": [
      "['[c]', 'e', 'n', '(a)', 's']\n",
      "Vuelva a intentarlo\n",
      "Te quedan 5 intentos.\n",
      "La palabra ingresada no tiene la cantidad de letras correcta.\n",
      " Ingresar una palabra con 5 letras.\n",
      "['[c]', 'e', 'n', '(a)', 's']\n",
      "Vuelva a intentarlo\n",
      "Te quedan 4 intentos.\n",
      "La palabra ingresada no tiene la cantidad de letras correcta.\n",
      " Ingresar una palabra con 5 letras.\n",
      "['[c]', 'e', 'n', '(a)', 's']\n",
      "Vuelva a intentarlo\n",
      "Te quedan 3 intentos.\n",
      "La palabra ingresada no tiene la cantidad de letras correcta.\n",
      " Ingresar una palabra con 5 letras.\n",
      "['[c]', 'e', 'n', '(a)', 's']\n",
      "Vuelva a intentarlo\n",
      "Te quedan 2 intentos.\n",
      "La palabra ingresada no tiene la cantidad de letras correcta.\n",
      " Ingresar una palabra con 5 letras.\n",
      "['[c]', 'e', 'n', '(a)', 's']\n",
      "Vuelva a intentarlo\n",
      "Te quedan 1 intentos.\n",
      "La palabra ingresada no tiene la cantidad de letras correcta.\n",
      " Ingresar una palabra con 5 letras.\n",
      "['[c]', 'e', 'n', '(a)', 's']\n",
      "Vuelva a intentarlo\n",
      "Te quedan 0 intentos.\n"
     ]
    }
   ],
   "source": [
    "# Resolucion completa \n",
    "\n",
    "# Definir cuantas letras va a tener la palabra\n",
    "cantidad_de_letras_de_la_palabra_a_encontrar = 5\n",
    "\n",
    "# Definimos nuestra palabra a encontrar\n",
    "palabra_a_encontrar = \"calor\"\n",
    "\n",
    "# Crear nuestra lista que va a contener otras listas dentro\n",
    "grilla = []\n",
    "\n",
    "# Definir la cantidad de intentos\n",
    "intentos = 6\n",
    "\n",
    "# Creamos nuestra función para verfiicar las opciones del juego\n",
    "def obtener_la_fila_verificada(palabra_a_encontrar, palabra_ingresada):\n",
    "    # creamos la lista que va a contener nuestro resultado\n",
    "    resultado = []\n",
    "\n",
    "    # Creamos la lista de letras en la palabra a encontrar\n",
    "    letras_de_la_palabra_a_encontrar = list(palabra_a_encontrar)\n",
    "\n",
    "    # Creamos la lista de letras de la palabra ingresada\n",
    "    letras_de_la_palabra_ingresada = list(palabra_ingresada)\n",
    "\n",
    "    # Iteramos en cada posición de ambas listas\n",
    "    for posicion_de_la_letra in range(cantidad_de_letras_de_la_palabra_a_encontrar):\n",
    "        # Verificamos si las letras en la misma posición son iguales\n",
    "        las_letras_son_iguales = letras_de_la_palabra_a_encontrar[posicion_de_la_letra] == letras_de_la_palabra_ingresada[posicion_de_la_letra]\n",
    "\n",
    "        # Verificamos si la letra existe en la palabra\n",
    "        la_letra_existe_en_la_palabra = letras_de_la_palabra_ingresada[posicion_de_la_letra] in palabra_a_encontrar\n",
    "\n",
    "        if las_letras_son_iguales:\n",
    "            # Guardar las letras que estan en la palabra a encontrar y coinciden en la posición entre []\n",
    "            letra_modificada = '[' + letras_de_la_palabra_ingresada[posicion_de_la_letra] + ']'\n",
    "            resultado.append(letra_modificada)\n",
    "        elif la_letra_existe_en_la_palabra:\n",
    "\n",
    "            letra_modificada = '(' + letras_de_la_palabra_ingresada[posicion_de_la_letra] + ')'\n",
    "            resultado.append(letra_modificada)\n",
    "        else:\n",
    "            resultado.append(letras_de_la_palabra_ingresada[posicion_de_la_letra])\n",
    "        \n",
    "    return resultado\n",
    "\n",
    "# Creamos nuestra función de imprimir grilla\n",
    "def imprimir_grilla(grilla):\n",
    "    cantidad_de_filas = len(grilla)\n",
    "\n",
    "    for fila in range(cantidad_de_filas):\n",
    "        print(grilla[fila])\n",
    "\n",
    "# Iniciar nuestro juego\n",
    "while intentos > 0:\n",
    "    intentos = intentos - 1 # Se crea un bucle en la variable intentos para que se ejecute mientras la resta sea mayor a 0.\n",
    "\n",
    "    palabra_ingresada = input(\"Ingrese su respuesta:\")\n",
    "    \n",
    "    letras_de_la_palabra_a_encontrar = list(palabra_a_encontrar)\n",
    "    letras_de_la_palabra_ingresada = list(palabra_ingresada)\n",
    "\n",
    "    if len(palabra_ingresada) != cantidad_de_letras_de_la_palabra_a_encontrar:\n",
    "        print(\"La palabra ingresada no tiene la cantidad de letras correcta.\")\n",
    "        print(\" Ingresar una palabra con\", cantidad_de_letras_de_la_palabra_a_encontrar, \"letras.\")\n",
    "    else:\n",
    "        linea_verificada = obtener_la_fila_verificada(palabra_a_encontrar, palabra_ingresada)\n",
    "        grilla.append(linea_verificada)\n",
    "\n",
    "    imprimir_grilla(grilla)\n",
    "    \n",
    "    if palabra_ingresada != palabra_a_encontrar:\n",
    "        print(\"Vuelva a intentarlo\")\n",
    "        print(\"Te quedan\", intentos ,\"intentos.\")\n",
    "    else:\n",
    "        print(\"Ganaste!\")\n",
    "        break"
   ]
  },
  {
   "cell_type": "code",
   "execution_count": 46,
   "metadata": {},
   "outputs": [
    {
     "data": {
      "text/plain": [
       "True"
      ]
     },
     "execution_count": 46,
     "metadata": {},
     "output_type": "execute_result"
    }
   ],
   "source": [
    "#Solucion de Vale sobre return \n",
    "\n",
    "def letras (letra1,letra2): #le puse ya los parametros que quiero ver si son iguales\n",
    "    if letra1 == letra2:\n",
    "        return \"Las letras son iguales\"\n",
    "       # return True \n",
    "        #print(\"Las letras son iguales\")\n",
    "    else:\n",
    "        print(\"Las letras son diferentes\")\n",
    "letras(\"B\",\"B\") #le di los argumentos del parametro que quiero comparar"
   ]
  },
  {
   "cell_type": "code",
   "execution_count": 49,
   "metadata": {},
   "outputs": [
    {
     "name": "stdout",
     "output_type": "stream",
     "text": [
      "El resultado es 14\n",
      "16\n"
     ]
    }
   ],
   "source": [
    "# EJEMPLO NUEVO PARA RETURN \n",
    "\n",
    "def calculadora(numero_uno,numero_dos): #definimos nombre de la funcion y cuantos parametros va a recibir \n",
    "    resultado = numero_uno + numero_dos #definir instrucciones de la funcion el cuerpo \n",
    "    return resultado #la funcion retorna solo el numero sumado \n",
    "calculadora(5,8)  #asignando argumentos = valores que se van a asignar a los parametros = variables \n",
    "\n",
    "nuevo_llamado = calculadora(11,3) # en nuevo llamado se guarda lo que retornamos \n",
    "print(\"El resultado es\", nuevo_llamado)\n",
    "\n",
    "nueva_suma = 2 + nuevo_llamado\n",
    "print(nueva_suma)"
   ]
  }
 ],
 "metadata": {
  "kernelspec": {
   "display_name": "Python 3.10.4 64-bit",
   "language": "python",
   "name": "python3"
  },
  "language_info": {
   "codemirror_mode": {
    "name": "ipython",
    "version": 3
   },
   "file_extension": ".py",
   "mimetype": "text/x-python",
   "name": "python",
   "nbconvert_exporter": "python",
   "pygments_lexer": "ipython3",
   "version": "3.10.4"
  },
  "orig_nbformat": 4,
  "vscode": {
   "interpreter": {
    "hash": "aee8b7b246df8f9039afb4144a1f6fd8d2ca17a180786b69acc140d282b71a49"
   }
  }
 },
 "nbformat": 4,
 "nbformat_minor": 2
}
