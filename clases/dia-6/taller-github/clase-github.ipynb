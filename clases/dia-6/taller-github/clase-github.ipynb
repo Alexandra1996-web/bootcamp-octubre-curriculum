{
 "cells": [
  {
   "cell_type": "markdown",
   "metadata": {},
   "source": [
    "# Crear cuenta en Github \n",
    "\n",
    "- https://docs.github.com/es/get-started/signing-up-for-github/signing-up-for-a-new-github-account"
   ]
  },
  {
   "cell_type": "markdown",
   "metadata": {},
   "source": [
    "# Librerias \n",
    "\n",
    "https://colab.research.google.com/drive/1ay3dwNObrw6eZhQeeLYe121k_33_BLxq#scrollTo=tBSQVtMYbTg3 \n",
    "ENRI"
   ]
  },
  {
   "cell_type": "markdown",
   "metadata": {},
   "source": [
    "# Googlear crear perfil de github\n",
    "\n",
    "# Googlear errores\n",
    "\n"
   ]
  },
  {
   "cell_type": "code",
   "execution_count": null,
   "metadata": {},
   "outputs": [],
   "source": []
  },
  {
   "cell_type": "code",
   "execution_count": null,
   "metadata": {},
   "outputs": [],
   "source": []
  }
 ],
 "metadata": {
  "kernelspec": {
   "display_name": "Python 3.10.4 64-bit",
   "language": "python",
   "name": "python3"
  },
  "language_info": {
   "name": "python",
   "version": "3.10.4"
  },
  "orig_nbformat": 4,
  "vscode": {
   "interpreter": {
    "hash": "aee8b7b246df8f9039afb4144a1f6fd8d2ca17a180786b69acc140d282b71a49"
   }
  }
 },
 "nbformat": 4,
 "nbformat_minor": 2
}
